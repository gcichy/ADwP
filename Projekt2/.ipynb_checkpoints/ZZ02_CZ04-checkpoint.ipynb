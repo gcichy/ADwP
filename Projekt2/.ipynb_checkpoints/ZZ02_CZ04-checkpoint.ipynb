{
 "cells": [
  {
   "cell_type": "markdown",
   "id": "4ac587d6",
   "metadata": {
    "deletable": false,
    "editable": false,
    "nbgrader": {
     "cell_type": "markdown",
     "checksum": "4d87ed846e09cbf1c8eae4e0f16bea9b",
     "grade": false,
     "grade_id": "cell-fcd2666579131b77",
     "locked": true,
     "schema_version": 3,
     "solution": false,
     "task": false
    },
    "tags": []
   },
   "source": [
    "# Analiza danych w języku Python - ćwiczenia laboratoryjne 2022/2023\n",
    "\n",
    "Ten notatnik zalicza się do grupy zestawów zadań, na podstawie których odbywa się zaliczenie ćwiczeń i podlega zwrotowi do oceny w ustalonym na zajęciach terminie.\n",
    "\n",
    "Uwagi i wytyczne ogólne dotyczące uzupełniania i oceny notatnika:\n",
    "- Podczas wykonywania zadań należy korzystać wyłącznie z pakietów zaimportowanych na początku notatnika oraz z pakietów wchodzących w skład standardowej biblioteki Pythona, które można zaimportować samodzielnie we wskazanej komórce notatnika.\n",
    "- Swoje rozwiązania należy wprowadzać wyłącznie w miejce następujących fragmentów kodu:<br/> `# YOUR CODE HERE`<br/> `raise NotImplementedError()`<br/> \n",
    "a odpowiedzi tekstowe w komórkach oznaczonych hasłem:<br/> \n",
    "`YOUR ANSWER HERE`<br/> \n",
    "Nie należy w żaden sposób modyfikować pozostałych fragmentów kodu oraz innych elementów notatnika, w szczególności dodawać lub usuwać komórek oraz zmieniać nazwy pliku.\n",
    "- Jeżeli zestaw zadań wymaga skorzystania z fragmentów kodu opracowanego w ramach wcześniejszych zestawów zadań należy je umieścić we wskazanej komórce notatnika.\n",
    "- Otrzymywane wyniki i odpowiedzi mają być rezultatem wykonania napisanego kodu, odpowiedzi uzupełniane manualnie nie podlegają ocenie.\n",
    "- Zadanie należy wykonać w taki sposób, aby podczas wykonywania kodu nie zostały wyświetlone żadne ostrzeżenia.\n",
    "- Zawarte w notatniku automatyczne testy mają charakter poglądowy. Dotyczą one wybranych aspektów zadań i mają za zadanie wyłapać podstawowe błędy. Przejście wszystkich testów nie oznacza, że zadanie jest wykonane w całości poprawnie i zostanie ocenione na maksymalną liczbę punktów.\n",
    "- Zadania, które powodują wyświetlenie komunikatu o błędzie przerywającym wykonywanie kodu nie podlegają ocenie.\n",
    "\n",
    "Uwagi i wytyczne ogólne dotyczące wizualizacji wyników:\n",
    "- Wszystkie wykresy powinny być wykonane w jednolitym, przejrzystym i czytelnym stylu, posiadać odpowiednio dobrane proporcje i zakresy wartości osi.\n",
    "- Wykresy oraz ich osie powinny mieć nadane tytuły. Jeżeli w obrębie figury znajduje się więcej niż jeden wykres to figura również powinna mieć nadany tytuł. \n",
    "- Figury powinny mieć ustawione białe tło, tak, aby niezależnie od ustawień notatnika wszystkie elementy wykresów były dobrze widoczne (domyślnie tło jest przeźroczyste co może powodować problemy w notatnikach z ustawionym ciemnym tłem).\n",
    "- Rozmiar poziomy figur nie powinien przekraczać 20 cali.\n",
    "\n",
    "Przed odesłaniem zestawu zadań do oceny proszę uzupełnić komórkę z danymi autorów rozwiązania (`NAME` - nazwa zespołu, `COLLABORATORS` - imiona, nazwiska i numery indeksów członków zespołu) oraz upewnić się, że notatnik działa zgodnie z oczekiwaniami. W tym celu należy skorzystać z opcji **Restart Kernel and Run All Cells...** dostępnej na górnej belce notatnika pod symbolem $\\blacktriangleright\\blacktriangleright$."
   ]
  },
  {
   "cell_type": "code",
   "execution_count": null,
   "id": "a26c11db",
   "metadata": {},
   "outputs": [],
   "source": [
    "NAME = \"IAD15\"\n",
    "COLLABORATORS = \"Grzegorz Cichy 405708, Klaudia Buksa 405794\""
   ]
  },
  {
   "cell_type": "markdown",
   "id": "d00cbbeb",
   "metadata": {
    "deletable": false,
    "editable": false,
    "nbgrader": {
     "cell_type": "markdown",
     "checksum": "eddc8826810e4a6f7bf68319da334bd9",
     "grade": false,
     "grade_id": "cell-109006d425e5cf83",
     "locked": true,
     "schema_version": 3,
     "solution": false,
     "task": false
    },
    "tags": []
   },
   "source": [
    "---"
   ]
  },
  {
   "cell_type": "markdown",
   "id": "3dc8b5f1-8b22-4781-876f-27826679533d",
   "metadata": {
    "deletable": false,
    "editable": false,
    "nbgrader": {
     "cell_type": "markdown",
     "checksum": "3cc8e0af44c671714a0db4b7877d5ad4",
     "grade": false,
     "grade_id": "cell-a12f05a1065ccf65",
     "locked": true,
     "schema_version": 3,
     "solution": false,
     "task": false
    },
    "tags": []
   },
   "source": [
    "## Zestaw zadań 2: Elementy statystyki opisowej 2 (Notatnik 4/4)"
   ]
  },
  {
   "cell_type": "code",
   "execution_count": 5,
   "id": "a0f0ba49-958b-41f6-befc-cf77d7364345",
   "metadata": {
    "deletable": false,
    "editable": false,
    "nbgrader": {
     "cell_type": "code",
     "checksum": "9c1f9f1a79efb2ea5cdbaa8129434777",
     "grade": false,
     "grade_id": "cell-50608d099c9a113d",
     "locked": true,
     "schema_version": 3,
     "solution": false,
     "task": false
    },
    "tags": []
   },
   "outputs": [],
   "source": [
    "import numpy as np\n",
    "import pandas as pd\n",
    "import scipy as sp\n",
    "import matplotlib as mpl\n",
    "import matplotlib.pyplot as plt\n",
    "import seaborn as sns\n",
    "import dataframe_image as dfi"
   ]
  },
  {
   "cell_type": "code",
   "execution_count": 6,
   "id": "3afcbcf4-e4a1-4435-a432-bbc51129910d",
   "metadata": {
    "tags": []
   },
   "outputs": [],
   "source": [
    "# Miejsce do importu pakietów wchodzących w skład standardowej biblioteki Pythona oraz ustawienie opcji wykorzystywanych pakietów"
   ]
  },
  {
   "cell_type": "markdown",
   "id": "73cb2852-79f3-4f76-9303-a091a9be7623",
   "metadata": {
    "deletable": false,
    "editable": false,
    "nbgrader": {
     "cell_type": "markdown",
     "checksum": "da4a3fda1a35149f6b8e192efb4f338c",
     "grade": false,
     "grade_id": "cell-7e0c91af7d9408af",
     "locked": true,
     "schema_version": 3,
     "solution": false,
     "task": false
    },
    "tags": []
   },
   "source": [
    "### Zadanie 6: Analiza wyników [15 pkt]\n",
    "Scharakteryzuj przebieg kryzysu ekonomicznego 2008-2009 na podstawie wyników analizy przeprowadzonej we wcześniejszych zadaniach zgodnie z poniższymi wytycznymi:\n",
    "- Umieść treść analizy w pojedynczej komórce Markdown. Oprócz tekstu wklej do niej wszystkie wykresy i tablice, do których odnosi się analiza.\n",
    "- W analizie oprzyj się przede wszystkim o tablice i grafiki przygotowane w ramach zadań 2-4. Nie wykorzystuj w analizie elementów przygotowanych w ramach zadania 5. Ma ono wyłącznie charakter demonstracji jak należy pracować, gdy nie są dostępne dane szczegółowe.\n",
    "- Nie powielaj elementów zawierających te same informacje (np. wykorzystanie wielu grafik z zadania 3b),\n",
    "- Zawrzyj w analizie wnioski odnośnie tego jak przebiegał kryzys w ujęciu ogólnoświatowym jak i wnioski odnoszące się do poszczególnych rejonów geograficznych i grup państw o zbliżonym stopniu zamożności (np. różnice i podobieństwa w tym, jak różne grupy państw przechodziły kryzys).\n",
    "- Analizując dane rozważ ich tendencję centralną, skupienie, koncentrację oraz asymetrię,\n",
    "- Nie ograniczaj się wyłącznie do stwierdzeń typu \"średnia wartość parametru GDP growth (annual %) jest najniższa w roku 2009\", tam gdzie to możliwe spróbuj wyciągnąć szersze, dalej idące wnioski o badanym zjawisku.\n",
    "- Wskaż problemy w analizie przeprowadzonej w ramach wykonanych wcześniej zadań i zaproponuj jakie zmiany należy do niej wprowadzić w celu ich rozwiązania.\n",
    "- Jeżeli widzisz taką potrzebę możesz wygenerować dodatkowe tablice i grafiki, w takim przypadku generujący je kod powinien zostać umieszczony w komórce poprzedzającej komórkę z treścią analizy.\n",
    "\n",
    "Wskazówki dotyczące pozyskiwania i wklejania grafik do komórki markdown:\n",
    "- przygotowane wykresy można zapisać do plików za pomocą kodu: `fig.savefig('image.png')`, gdzie `fig` to zmienna zawierająca wykres przygotowany z wykorzystaniem `plt.subplots()`, a `'image.png'` to nazwa pliku, do którego ma zostać zapisana.\n",
    "- przygotowane tablice można zapisać do plików za pomocą kodu: `dfi.export(styled_df, 'df.png')`, gdzie `styled_df` to zmienna zawierająca odpowiednio sformatowaną tablicę, a `'df.png'` to nazwa pliku, do którego ma zostać zapisana.\n",
    "- zapisane do plików grafiki można wklejać do komórki markdown za pomocą następującej formuły: `![](table.png)`, gdzie `table.png` to nazwa pliku, do którego ma zostać wstawiony do komórki.\n",
    "\n",
    "Po wygenerowaniu plików z grafikami nie należy uzuwać z notatników kodu wykorzystanego podczas ich przygotowywania, w tym formuł `fig.savefig()` i `dfi.export()`."
   ]
  },
  {
   "cell_type": "code",
   "execution_count": 7,
   "id": "e789ed69-15b2-4b3e-8ff0-41e7137b6f60",
   "metadata": {
    "tags": []
   },
   "outputs": [],
   "source": [
    "# Miejsce na dodatkowy kod"
   ]
  },
  {
   "cell_type": "markdown",
   "id": "79045acb-3c92-4e3e-a418-d020c5375d69",
   "metadata": {
    "deletable": false,
    "nbgrader": {
     "cell_type": "markdown",
     "checksum": "aeaa48637c159e037354ad072c54f33c",
     "grade": true,
     "grade_id": "cell-152c404baa500092",
     "locked": false,
     "points": 15,
     "schema_version": 3,
     "solution": true,
     "task": false
    },
    "tags": []
   },
   "source": [
    "#### Charakterystyka przebiegu kryzysu ekonomicznego w latach 2008-2009 na podstawie wyników przeprowadzonej analizy\n",
    "\n",
    "Dane wykorzystane do naszej analizy obrazują wskaźnik wzrostu PKB z podziałem na lata, kraje oraz ich stopień zamożności(podział z 2008 roku). Przeprowadzona przez nas analiza obejmuje lata 2006-2011.\n",
    "\n",
    "### 1. Częstość występowania wskaźnika wzrostu PKB w ujęciu ogólnoświatowym\n",
    "\n",
    "\n",
    "![](calosc.png)\n",
    "\n",
    "Jak można zauważyć powyżej, większość wartości wskaźnika znajduje się w przedziałach (-5 0], (0 5] oraz (5 10]. W latach 2008-2009 można podejrzewać wystąpienie kryzysu gospodarczego. Świadczy o tym zarówno wzrost wartości w przedziałach ujemnych jak i spadek w przedziałach dodatnich. Od 2010 roku widoczna jest pewna zmiana, w \n",
    "większości przypadków można zaobserować wzrost wartości wskaźnika w przedziałach dodatnich oraz spadek w ujemnych. Świadczy to o poprawiającej się sytuacji, jednak nie wszystkie państwa odzyskały stan tak samo dobry jak przed kryzysem. Widać przesunięcie tendencji centralnej z przedziału (5 10] na (0 5].\n",
    "\n",
    "### 2. Częstość występowania wskaźnika wzrostu PKB z podziałem na rejony\n",
    "![](podzial_na_rejony.png)\n",
    "\n",
    "\n",
    "W Azji, Oceanii oraz Afryce wartości częstości w latach kryzysu jedynie nieznacznie przesunęły się w stronę przedziałów obejmujących wartości ujemne. W Amerykach kryzys był odczuwalny znacznie bardziej niż w wcześniej wymienionych regionach, jednak wciąż w najgorszym momencie, rok 2009, ponad 30% wartości było dodatnich. W badanych latach, do roku 2011, w regionie obu Ameryk wskaźniki nie wróciły na poziom tak dobry jaki był przed kryzysem. Europa przeszła kryzys zdecydowanie najgorzej, w roku 2009 ponad 90% wartości było w zakresach obejmujących wartości ujemne. W roku 2010 można zauważyć gwałtowny, powrotny wzrost częstości w przedziałach dodatnich jednak tym częstościom również wiele brakuje do tych sprzed kryzysu - do 2011 roku ponad 10% państw wciąż posiadało ujemny wskaźnik wzrostu PKB, co wcześniej, lata 2006/2007 nie spotkało ani jednego państwa europejskiego. Podsumowując, w regionie Ameryk oraz w Europie kryzys dał się odczuć zdecydowanie najmocniej oraz jego skutki były bardziej długofalowe. W regionach natomiast uchodzących za generalnie biedniejsze kryzys był znacznie mniej zauważalny oraz państwom tam szybciej udało się wrócić do poziomów sprzed lat kryzysu.\n",
    "\n",
    "![](wykres1.png)\n",
    "\n",
    "\n",
    "\n",
    "### 3. Częstość występowania wskaźnika wzrostu PKB z podziałem na stopień zamożności \n",
    "![](st_zamoznosci.png)\n",
    "\n",
    "Dla państw ze stopniem zamożności:\n",
    "\n",
    "LOW (kraje biedne):\n",
    "\n",
    "W przedziałach ujemnych w trakcie kryzysu nie zaobserowaliśmy wzrostu częstości wskaźnika - sytuacja 'stabilna'. Jeśli chodzi o przedziały dodatnie można zauważyć zarówno spadek jak i wzrost wartości, pomiędzy rokiem 2008, a 2009 tendencja centralna przesuwa sie z przedziału (5 10] na (0 5]. Nie są to wielkie zmiany.\n",
    "Jak widać po kryzysie ogólnie wartości osiągają poziom bardzo zbliżony do tych sprzed kryzysu. Liczba państw z ujemnym wzrostem wskaźnika nieznacznie urosła. Można więc powiedzieć, że skutki  kryzysu nie są duże.\n",
    "\n",
    "LOWER MIDDLE:\n",
    "\n",
    "Jeśli chodzi o wartości w przedziałach ujemnych w porównaniu do lat poprzednich ulegają one wzrostowi w trakcie kryzysu. W 2010 roku sytuacja się poprawia, wartości maleją. W 2011 roku zauważalny jest ich wzrost.\n",
    "Analogiczna sytuacja przedstawia się w przedziałach dodatnich. 2010 rok był poprawą sytaucji po kryzysie. Jednak ostatecznie można stwierdzić, że wartości najbardziej dodatnie w 2011 zmalały w porównaniu z rokiem poprzednim, nie osiągnęły poziomu tych sprzed kryzysu. Centrum przesunęło się nieznacznie w stronę ujemnych.\n",
    "\n",
    "UPPER MIDDLE:\n",
    "\n",
    "W przedziałach ujemnych widzimy duży wzrost wartości w trakcie kryzysu, widać że kryzys ma duże skutki. Od 2010 rokuu sytuacja się powoli stabilizuje i wartości maleją, jednak do 2011 nie osiągają wartosci takich jak sprzed kryzysu. Jeśli chodzi o wartości w przedziałach dodatnich można zaobserować duży spadek. Sytuacja po kryzysie sugeruje, że państwa te nie poradziły sobie najlepiej. \n",
    "\n",
    "HIGH:\n",
    "\n",
    "W przedziałach ujemnych można zaobserwować znaczący wzrost wartości w trakcie kryzysu, po 2009 roku spadek, jednak wartości nie wróciły do stanu z lat 2006, 2007. W 2009 obserwujemy drastyczny spadek wartości w przedziałach dodatnich. Zauważalne są skutki kryzysu.\n",
    "\n",
    "Uważamy, że kryzys gospodarczy najbardziej dotknął dwie najwyższe grupy - upper middle oraz high. \n",
    "\n",
    "Analizując wykresy, zamieszczone poniżej, dla 2008 oraz 2009 roku dla stopnia zamożności 'upper middle', 'high' można zobaczyć jak dane linie odbiegają od pozostałych, co świadczy o \"sile\" kryzysu. Wykresy bardziej wysunięte w lewą stronę, gdzie znajdują się wartości ujemne. \n",
    "Dla 'low' oraz 'lower middle' jest to bardziej jednolite. \n",
    "\n",
    "\n",
    "\n",
    "\n",
    "![](descriptive_parameters_1.png)\n",
    "\n",
    "Parametry przedstawione na powyższej tabeli również dobrze obrazują kryzys z lat 2008-2009. Widać załamanie w wartościach parametrów, zmniejszenie ich wartości, poza odchyleniem standardowym, które się zwiększa. "
   ]
  },
  {
   "cell_type": "code",
   "execution_count": null,
   "id": "30fed5e0-d9f3-4f27-82ca-35615994d2e2",
   "metadata": {},
   "outputs": [],
   "source": []
  }
 ],
 "metadata": {
  "kernelspec": {
   "display_name": "Python 3 (ipykernel)",
   "language": "python",
   "name": "python3"
  },
  "language_info": {
   "codemirror_mode": {
    "name": "ipython",
    "version": 3
   },
   "file_extension": ".py",
   "mimetype": "text/x-python",
   "name": "python",
   "nbconvert_exporter": "python",
   "pygments_lexer": "ipython3",
   "version": "3.11.2"
  }
 },
 "nbformat": 4,
 "nbformat_minor": 5
}
