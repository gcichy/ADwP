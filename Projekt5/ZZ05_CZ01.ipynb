{
 "cells": [
  {
   "cell_type": "markdown",
   "id": "02653896",
   "metadata": {
    "deletable": false,
    "editable": false,
    "nbgrader": {
     "cell_type": "markdown",
     "checksum": "4d87ed846e09cbf1c8eae4e0f16bea9b",
     "grade": false,
     "grade_id": "cell-fcd2666579131b77",
     "locked": true,
     "schema_version": 3,
     "solution": false,
     "task": false
    },
    "tags": []
   },
   "source": [
    "# Analiza danych w języku Python - ćwiczenia laboratoryjne 2022/2023\n",
    "\n",
    "Ten notatnik zalicza się do grupy zestawów zadań, na podstawie których odbywa się zaliczenie ćwiczeń i podlega zwrotowi do oceny w ustalonym na zajęciach terminie.\n",
    "\n",
    "Uwagi i wytyczne ogólne dotyczące uzupełniania i oceny notatnika:\n",
    "- Podczas wykonywania zadań należy korzystać wyłącznie z pakietów zaimportowanych na początku notatnika oraz z pakietów wchodzących w skład standardowej biblioteki Pythona, które można zaimportować samodzielnie we wskazanej komórce notatnika.\n",
    "- Swoje rozwiązania należy wprowadzać wyłącznie w miejce następujących fragmentów kodu:<br/> `# YOUR CODE HERE`<br/> `raise NotImplementedError()`<br/> \n",
    "a odpowiedzi tekstowe w komórkach oznaczonych hasłem:<br/> \n",
    "`YOUR ANSWER HERE`<br/> \n",
    "Nie należy w żaden sposób modyfikować pozostałych fragmentów kodu oraz innych elementów notatnika, w szczególności dodawać lub usuwać komórek oraz zmieniać nazwy pliku.\n",
    "- Jeżeli zestaw zadań wymaga skorzystania z fragmentów kodu opracowanego w ramach wcześniejszych zestawów zadań należy je umieścić we wskazanej komórce notatnika.\n",
    "- Otrzymywane wyniki i odpowiedzi mają być rezultatem wykonania napisanego kodu, odpowiedzi uzupełniane manualnie nie podlegają ocenie.\n",
    "- Zadanie należy wykonać w taki sposób, aby podczas wykonywania kodu nie zostały wyświetlone żadne ostrzeżenia.\n",
    "- Zawarte w notatniku automatyczne testy mają charakter poglądowy. Dotyczą one wybranych aspektów zadań i mają za zadanie wyłapać podstawowe błędy. Przejście wszystkich testów nie oznacza, że zadanie jest wykonane w całości poprawnie i zostanie ocenione na maksymalną liczbę punktów.\n",
    "- Zadania, które powodują wyświetlenie komunikatu o błędzie przerywającym wykonywanie kodu nie podlegają ocenie.\n",
    "\n",
    "Uwagi i wytyczne ogólne dotyczące wizualizacji wyników:\n",
    "- Wszystkie wykresy powinny być wykonane w jednolitym, przejrzystym i czytelnym stylu, posiadać odpowiednio dobrane proporcje i zakresy wartości osi.\n",
    "- Wykresy oraz ich osie powinny mieć nadane tytuły. Jeżeli w obrębie figury znajduje się więcej niż jeden wykres to figura również powinna mieć nadany tytuł. \n",
    "- Figury powinny mieć ustawione białe tło, tak, aby niezależnie od ustawień notatnika wszystkie elementy wykresów były dobrze widoczne (domyślnie tło jest przeźroczyste co może powodować problemy w notatnikach z ustawionym ciemnym tłem).\n",
    "- Rozmiar poziomy figur nie powinien przekraczać 20 cali.\n",
    "\n",
    "Przed odesłaniem zestawu zadań do oceny proszę uzupełnić komórkę z danymi autorów rozwiązania (`NAME` - nazwa zespołu, `COLLABORATORS` - imiona, nazwiska i numery indeksów członków zespołu) oraz upewnić się, że notatnik działa zgodnie z oczekiwaniami. W tym celu należy skorzystać z opcji **Restart Kernel and Run All Cells...** dostępnej na górnej belce notatnika pod symbolem $\\blacktriangleright\\blacktriangleright$."
   ]
  },
  {
   "cell_type": "code",
   "execution_count": 1,
   "id": "8e05b081",
   "metadata": {
    "tags": []
   },
   "outputs": [],
   "source": [
    "NAME = \"Klaudia Buksa, Grzegorz Cichy\"\n",
    "COLLABORATORS = \"NAJLEPSZA GRUPA NA ŚWIECIE\""
   ]
  },
  {
   "cell_type": "markdown",
   "id": "d6666c89",
   "metadata": {
    "deletable": false,
    "editable": false,
    "nbgrader": {
     "cell_type": "markdown",
     "checksum": "eddc8826810e4a6f7bf68319da334bd9",
     "grade": false,
     "grade_id": "cell-109006d425e5cf83",
     "locked": true,
     "schema_version": 3,
     "solution": false,
     "task": false
    },
    "tags": []
   },
   "source": [
    "---"
   ]
  },
  {
   "cell_type": "markdown",
   "id": "6c4495b8-7f21-45ec-87ee-fbbf027af921",
   "metadata": {
    "deletable": false,
    "editable": false,
    "nbgrader": {
     "cell_type": "markdown",
     "checksum": "683c65b69ae06730df499b671828499e",
     "grade": false,
     "grade_id": "cell-477fa88f691523ff",
     "locked": true,
     "schema_version": 3,
     "solution": false,
     "task": false
    },
    "tags": []
   },
   "source": [
    "## Zestaw zadań 5: Weryfikacja hipotez statystycznych (Notatnik 1/2)"
   ]
  },
  {
   "cell_type": "code",
   "execution_count": 1,
   "id": "e7eeda6e-8d32-48a6-a162-fcc4db444790",
   "metadata": {
    "deletable": false,
    "editable": false,
    "nbgrader": {
     "cell_type": "code",
     "checksum": "33dccaab35e8f0f76ecb54f090b04b47",
     "grade": false,
     "grade_id": "cell-a2512be5dd2430a0",
     "locked": true,
     "schema_version": 3,
     "solution": false,
     "task": false
    },
    "tags": []
   },
   "outputs": [],
   "source": [
    "import numpy as np\n",
    "import pandas as pd\n",
    "import scipy as sp\n",
    "import matplotlib as mpl\n",
    "import matplotlib.pyplot as plt\n",
    "import seaborn as sns"
   ]
  },
  {
   "cell_type": "code",
   "execution_count": 2,
   "id": "55b9e874-8597-42ff-9a35-8547d0eafe30",
   "metadata": {
    "tags": []
   },
   "outputs": [],
   "source": [
    "# Miejsce do importu pakietów wchodzących w skład standardowej biblioteki Pythona oraz ustawienie opcji wykorzystywanych pakietów"
   ]
  },
  {
   "cell_type": "code",
   "execution_count": 3,
   "id": "19d9c124-a74e-4046-be74-6e33b4a1a91a",
   "metadata": {
    "deletable": false,
    "editable": false,
    "nbgrader": {
     "cell_type": "code",
     "checksum": "21f1137729b787c8d65f5e8c29c2285a",
     "grade": false,
     "grade_id": "cell-ad397cab13636327",
     "locked": true,
     "schema_version": 3,
     "solution": false,
     "task": false
    },
    "tags": []
   },
   "outputs": [
    {
     "data": {
      "text/html": [
       "<div>\n",
       "<style scoped>\n",
       "    .dataframe tbody tr th:only-of-type {\n",
       "        vertical-align: middle;\n",
       "    }\n",
       "\n",
       "    .dataframe tbody tr th {\n",
       "        vertical-align: top;\n",
       "    }\n",
       "\n",
       "    .dataframe thead th {\n",
       "        text-align: right;\n",
       "    }\n",
       "</style>\n",
       "<table border=\"1\" class=\"dataframe\">\n",
       "  <thead>\n",
       "    <tr style=\"text-align: right;\">\n",
       "      <th></th>\n",
       "      <th>x</th>\n",
       "    </tr>\n",
       "  </thead>\n",
       "  <tbody>\n",
       "    <tr>\n",
       "      <th>0</th>\n",
       "      <td>5.338105</td>\n",
       "    </tr>\n",
       "    <tr>\n",
       "      <th>1</th>\n",
       "      <td>4.906813</td>\n",
       "    </tr>\n",
       "    <tr>\n",
       "      <th>2</th>\n",
       "      <td>5.006564</td>\n",
       "    </tr>\n",
       "    <tr>\n",
       "      <th>3</th>\n",
       "      <td>5.081503</td>\n",
       "    </tr>\n",
       "    <tr>\n",
       "      <th>4</th>\n",
       "      <td>4.842215</td>\n",
       "    </tr>\n",
       "  </tbody>\n",
       "</table>\n",
       "</div>"
      ],
      "text/plain": [
       "          x\n",
       "0  5.338105\n",
       "1  4.906813\n",
       "2  5.006564\n",
       "3  5.081503\n",
       "4  4.842215"
      ]
     },
     "execution_count": 3,
     "metadata": {},
     "output_type": "execute_result"
    }
   ],
   "source": [
    "# Dane do testów\n",
    "test_data_1 = pd.DataFrame(data=sp.stats.norm.rvs(loc=5, scale=0.2, size=15, random_state=7), columns=[\"x\"])\n",
    "test_data_1.head()"
   ]
  },
  {
   "cell_type": "code",
   "execution_count": 4,
   "id": "48ca919d-e3de-4dd4-b00e-02687b5c7590",
   "metadata": {
    "deletable": false,
    "editable": false,
    "nbgrader": {
     "cell_type": "code",
     "checksum": "c05d01fd757a3e688670b624f8593f13",
     "grade": false,
     "grade_id": "cell-94cafb74adae4487",
     "locked": true,
     "schema_version": 3,
     "solution": false,
     "task": false
    },
    "tags": []
   },
   "outputs": [
    {
     "data": {
      "text/html": [
       "<div>\n",
       "<style scoped>\n",
       "    .dataframe tbody tr th:only-of-type {\n",
       "        vertical-align: middle;\n",
       "    }\n",
       "\n",
       "    .dataframe tbody tr th {\n",
       "        vertical-align: top;\n",
       "    }\n",
       "\n",
       "    .dataframe thead th {\n",
       "        text-align: right;\n",
       "    }\n",
       "</style>\n",
       "<table border=\"1\" class=\"dataframe\">\n",
       "  <thead>\n",
       "    <tr style=\"text-align: right;\">\n",
       "      <th></th>\n",
       "      <th>x</th>\n",
       "    </tr>\n",
       "  </thead>\n",
       "  <tbody>\n",
       "    <tr>\n",
       "      <th>0</th>\n",
       "      <td>False</td>\n",
       "    </tr>\n",
       "    <tr>\n",
       "      <th>1</th>\n",
       "      <td>False</td>\n",
       "    </tr>\n",
       "    <tr>\n",
       "      <th>2</th>\n",
       "      <td>False</td>\n",
       "    </tr>\n",
       "    <tr>\n",
       "      <th>3</th>\n",
       "      <td>False</td>\n",
       "    </tr>\n",
       "    <tr>\n",
       "      <th>4</th>\n",
       "      <td>True</td>\n",
       "    </tr>\n",
       "  </tbody>\n",
       "</table>\n",
       "</div>"
      ],
      "text/plain": [
       "       x\n",
       "0  False\n",
       "1  False\n",
       "2  False\n",
       "3  False\n",
       "4   True"
      ]
     },
     "execution_count": 4,
     "metadata": {},
     "output_type": "execute_result"
    }
   ],
   "source": [
    "# Dane do testów\n",
    "test_data_2 = pd.DataFrame(data=sp.stats.norm.rvs(loc=-0.15, scale=0.2, size=100, random_state=12)>0, columns=[\"x\"])\n",
    "test_data_2.head()"
   ]
  },
  {
   "cell_type": "markdown",
   "id": "383ae559-d461-4f22-821b-7dbf0a282f7e",
   "metadata": {
    "deletable": false,
    "editable": false,
    "nbgrader": {
     "cell_type": "markdown",
     "checksum": "64c5a59cb4e6d162e6a139ed1804ade3",
     "grade": false,
     "grade_id": "cell-b62050edacb5eb76",
     "locked": true,
     "schema_version": 3,
     "solution": false,
     "task": false
    },
    "tags": []
   },
   "source": [
    "### Zadanie 1: Weryfikacja hipotezy o wartości przeciętnej [10 pkt]\n",
    "\n",
    "Przygotuj funkcję `mean_NHST()`, która będzie weryfikować hipotezę o wartości przeciętnej i wyświetlać wynik testu statystycznego zgodnie z wytycznymi zawartymi w treści zadania oraz w docstring funkcji.\n",
    "\n",
    "Poza zwracaniem zmiennych wymienionych w docsting funkcji, które są potrzebne do przeprowadzenia automatycznych testów funkcji powinna ona generować wykres zawierający:\n",
    "- funkcję gęstości prawdopodobieństwa rozkładu teoretycznego wykorzystywanego w teście w zakresie od wartości, dla której dystrybuanta tego rozkładu przyjmuje wartość 0.0001 do wartości, dla której dystrybuanta tego rozkładu przyjmuje wartość 0.9999,\n",
    "- zaznaczony wyróżniającym się kolorem fragmentem pola pod krzywą odpowiadający wyznaczonemu w teście obszarowi krytycznemu,\n",
    "- wyróżniającą się kolorem pionowę linię wysokości 1/3 maksymalnej wartości funkcji gęstości prawdopodobieństwa wskazującą obliczoną wartość statystyki t.\n",
    "\n",
    "Tytuł wykresu powinien zawierać w kolejnych liniach informację o:\n",
    "- postaci hipotezy zerowej,\n",
    "- postaci hipotezy alternatywnej,\n",
    "- wartości wyznaczonych statystyk t i t_alpha,\n",
    "- zależność między wartościami statystyk decydującą o wyniku testu,\n",
    "- informację o wyniku testu: \"Wynik testu istotności nie daje podstaw do odrzucenia H0 na rzecz H1 na poziomie istotności 1-alpha = A\" lub \"Odrzucenie H0 na rzecz H1 na poziomie istotności 1-alpha = A\".\n",
    "\n",
    "Wszystkie występujące w tytule wartości liczbowe powinny być automatycznie uzupełniane przez funkcję i odpowiednio sformatowane (4 miejsca po przecinku w przypadku t i t_alpha, pozostałe wartości z formatowaniem domyślnym).\n",
    "\n",
    "Przykład komunikatu zawartego w tytule figury:</br>\n",
    "    `H0: μ = 5`</br>\n",
    "    `H1: μ ≠ 5`</br>\n",
    "    `t = -0.0170, t_alpha = 2.1448`</br>\n",
    "    `|t| < t_alpha`</br>\n",
    "    `Wynik testu istotności nie daje podstaw do odrzucenia H0 na rzecz H1 na poziomie istotności 1-alpha = 0.95`</br>"
   ]
  },
  {
   "cell_type": "code",
   "execution_count": 5,
   "id": "017306ef",
   "metadata": {
    "tags": []
   },
   "outputs": [
    {
     "data": {
      "text/plain": [
       "4.999264343983528"
      ]
     },
     "execution_count": 5,
     "metadata": {},
     "output_type": "execute_result"
    }
   ],
   "source": [
    "test_data_1.mean(axis=0)[0]"
   ]
  },
  {
   "cell_type": "code",
   "execution_count": 68,
   "id": "27282587-a1ff-4eac-8ced-533fc053210d",
   "metadata": {
    "deletable": false,
    "nbgrader": {
     "cell_type": "code",
     "checksum": "f0cb97fd3c4a77a7e315b3377329ff27",
     "grade": false,
     "grade_id": "cell-e45051fae35d808a",
     "locked": false,
     "schema_version": 3,
     "solution": true,
     "task": false
    },
    "tags": []
   },
   "outputs": [
    {
     "name": "stdout",
     "output_type": "stream",
     "text": [
      "H0: μ = 5.08\n",
      "H1: μ ≠5.08\n",
      "|t| < t_alpha\n",
      "t = -1.9346677837081263, t_alpha = 2.1447866879169273\n",
      "Wynik testu istotności nie daje podstaw do odrzucenia H0 na rzecz H1 na poziomie istotności 1-alpha =0.95\n"
     ]
    },
    {
     "data": {
      "text/plain": [
       "(-1.9346677837081263, 2.1447866879169273, 0)"
      ]
     },
     "execution_count": 68,
     "metadata": {},
     "output_type": "execute_result"
    },
    {
     "data": {
      "image/png": "[encoded data removed]",
      "text/plain": [
       "<Figure size 2000x1000 with 1 Axes>"
      ]
     },
     "metadata": {},
     "output_type": "display_data"
    }
   ],
   "source": [
    "def mean_NHST(data, H0, H1, alpha):\n",
    "    \"\"\"\n",
    "    Parameters\n",
    "    -------\n",
    "    data: DataFrame\n",
    "        Tablica zawierająca domyślny indeks i kolumnę \"x\" wynikami próby losowej.\n",
    "    H0: float\n",
    "        Wartość przeciętna przyjęta jako hipoteza zerowa.\n",
    "    H1: str\n",
    "        Postać hipotezy alternatywnej, przyjmuje wartości:\n",
    "        - two-sided: wartość przeciętna jest różna od wartości przyjętej w H0,\n",
    "        - less: wartość przeciętna jest mniejsza od wartości przyjętej w H0,\n",
    "        - greater: wartość przeciętna jest większa od wartości przyjętej w H0.\n",
    "    alpha: float\n",
    "        Wartość określająca poziom istotności.\n",
    "    \n",
    "    Returns\n",
    "    -------\n",
    "    t: float\n",
    "        Wyliczona na podstawie próby losowej wartość statystyki t.\n",
    "    t_alpha: float\n",
    "        Wartość statystyki t_alpha.\n",
    "    H: int\n",
    "        Wynik testu statystycznego, przyjmuje wartość:\n",
    "        0 - gdy wynik testu istotności nie daje podstaw do odrzucenia H0 na rzecz H1 na poziomie istotności 1-alpha,\n",
    "        1 - gdy następuje odrzucenie H0 na rzecz H1 na poziomie istotności 1-alpha.\n",
    "    \"\"\"\n",
    "    x = test_data_1.iloc[:,0]\n",
    "    n = len(x)\n",
    "    #x_theor = np.linspace(min(x) - 0.4*max((x)-min(x)),0.4*max((x)-min(x)) + max(x),1000)\n",
    "    x_theor = np.linspace(-4,4,1000)\n",
    "    t_theor = sp.stats.t.pdf(x_theor, n-1, loc=0, scale=1 )\n",
    " \n",
    "    sr = test_data_1.mean(axis=0)[0]\n",
    "    s = np.sqrt(sum((test_data_1.iloc[:,0]-sr)**2)/n)\n",
    "    t = (sr-H0)/s*np.sqrt(n-1)\n",
    "\n",
    "    if H1 == 'greater' :\n",
    "        t_alpha = sp.stats.t.ppf(1-alpha, n-1, loc=0, scale=1)\n",
    "        temp = \"H1: μ >\" + str(H0) + \"\\n\"\n",
    "        if t < t_alpha :\n",
    "            temp = 't < t_alpha'\n",
    "            H = 0\n",
    "            wyn = \"Wynik testu istotności nie daje podstaw do odrzucenia H0 na rzecz H1 na poziomie istotności 1-alpha =\" + str(1-alpha)\n",
    "        else:\n",
    "            temp = 't > t_alpha'\n",
    "            H = 1\n",
    "            wyn = \"Wynik testu istotności daje podstawy do odrzucenia H0 na rzecz H1 na poziomie istotności 1-alpha =\" + str(1-alpha)\n",
    "    elif H1 == 'less':\n",
    "        t_alpha = sp.stats.t.ppf(alpha, n-1, loc=0, scale=1)\n",
    "        temp = \"H1: μ <\" + str(H0) + \"\\n\"\n",
    "        if t > t_alpha :\n",
    "            temp = 't > t_alpha'\n",
    "            H = 0\n",
    "            wyn = \"Wynik testu istotności nie daje podstaw do odrzucenia H0 na rzecz H1 na poziomie istotności 1-alpha =\" + str(1-alpha)\n",
    "        else:\n",
    "            temp = 't < t_alpha'\n",
    "            H = 1\n",
    "            wyn = \"Wynik testu istotności daje podstawy do odrzucenia H0 na rzecz H1 na poziomie istotności 1-alpha =\" + str(1-alpha)\n",
    "    elif H1 == 'two-sided':\n",
    "        t_alpha = sp.stats.t.ppf(1-alpha/2, n-1, loc=0, scale=1)\n",
    "        temp = \"H1: μ ≠\" + str(H0) + \"\\n\"\n",
    "        if abs(t) < t_alpha :\n",
    "            temp += '|t| < t_alpha'\n",
    "            H = 0\n",
    "            wyn = \"Wynik testu istotności nie daje podstaw do odrzucenia H0 na rzecz H1 na poziomie istotności 1-alpha =\" + str(1-alpha)\n",
    "        else:\n",
    "            temp += '|t| > t_alpha'\n",
    "            H = 1 \n",
    "            wyn = \"Wynik testu istotności daje podstawy do odrzucenia H0 na rzecz H1 na poziomie istotności 1-alpha =\" + str(1-alpha)\n",
    "    else :\n",
    "        raise Exception(\"ZŁY ARGUMENT H0\")\n",
    "    \n",
    "    print(f\"H0: μ = {H0}\\n{temp}\\nt = {t}, t_alpha = {t_alpha}\\n{wyn}\")\n",
    "\n",
    "\n",
    "    fig, ax = plt.subplots(1,1,figsize = (20,10))\n",
    "    \n",
    "    plt.plot(x_theor,t_theor, color = 'black')\n",
    "    #plt.fill_between(x_theor, t_theor, color = 'red', where = (abs(x_theor) >= t_alpha))\n",
    "    # plt.axvline(x=np.max(t) / 3, color='blue')\n",
    "\n",
    "    \n",
    "    return (t, t_alpha, H)\n",
    "    \n",
    "mean_NHST(test_data_1, 5.08, \"two-sided\", 0.05)\n",
    "    \n",
    "    \n",
    "    "
   ]
  },
  {
   "cell_type": "code",
   "execution_count": 59,
   "id": "5df8788c-f457-484a-ae64-c83212451547",
   "metadata": {
    "deletable": false,
    "editable": false,
    "nbgrader": {
     "cell_type": "code",
     "checksum": "b222aceb00d0c05f4aed1c7482510a5b",
     "grade": true,
     "grade_id": "cell-a44708db943f21c0",
     "locked": true,
     "points": 10,
     "schema_version": 3,
     "solution": false,
     "task": false
    },
    "tags": []
   },
   "outputs": [
    {
     "ename": "SyntaxError",
     "evalue": "invalid syntax (3852361088.py, line 9)",
     "output_type": "error",
     "traceback": [
      "\u001b[1;36m  Cell \u001b[1;32mIn[59], line 9\u001b[1;36m\u001b[0m\n\u001b[1;33m    assert np.all(np.isclose(mean_NHST(test_data_1, 4.92, \"greater\", 0.1), (1.8994107469740968, 1.345030374454649, 1)))t_theor\u001b[0m\n\u001b[1;37m                                                                                                                       ^\u001b[0m\n\u001b[1;31mSyntaxError\u001b[0m\u001b[1;31m:\u001b[0m invalid syntax\n"
     ]
    }
   ],
   "source": [
    "### Komórka testowa\n",
    "\n",
    "assert np.all(np.isclose(mean_NHST(test_data_1, 5.08, \"two-sided\", 0.05), (-1.9346677837081263, 2.1447866879169273, 0)))\n",
    "assert np.all(np.isclose(mean_NHST(test_data_1, 5.08, \"less\", 0.05), (-1.9346677837081263, -1.7613101357748564, 1)))\n",
    "assert np.all(np.isclose(mean_NHST(test_data_1, 5.08, \"greater\", 0.05), (-1.9346677837081263, 1.7613101357748562, 0)))\n",
    "\n",
    "assert np.all(np.isclose(mean_NHST(test_data_1, 4.92, \"two-sided\", 0.1), (1.8994107469740968, 1.7613101357748562, 1)))\n",
    "assert np.all(np.isclose(mean_NHST(test_data_1, 4.92, \"less\", 0.1), (1.8994107469740968, -1.3450303744546486, 0)))\n",
    "assert np.all(np.isclose(mean_NHST(test_data_1, 4.92, \"greater\", 0.1), (1.8994107469740968, 1.345030374454649, 1)))t_theor"
   ]
  },
  {
   "cell_type": "code",
   "execution_count": 39,
   "id": "944ed49c-55fc-45c6-a253-381887f64400",
   "metadata": {
    "tags": []
   },
   "outputs": [
    {
     "name": "stdout",
     "output_type": "stream",
     "text": [
      "H0: μ = 5.08\n",
      "H1: μ ≠5.08\n",
      "|t| < t_alpha\n",
      "t = -1.9346677837081263, t_alpha = 2.1447866879169273\n",
      "Wynik testu istotności nie daje podstaw do odrzucenia H0 na rzecz H1 na poziomie istotności 1-alpha =0.95\n",
      "H0: μ = 5.08\n",
      "t < t_alpha\n",
      "t = -1.9346677837081263, t_alpha = -1.7613101357748564\n",
      "Wynik testu istotności daje podstawy do odrzucenia H0 na rzecz H1 na poziomie istotności 1-alpha =0.95\n",
      "H0: μ = 5.08\n",
      "t < t_alpha\n",
      "t = -1.9346677837081263, t_alpha = 1.7613101357748562\n",
      "Wynik testu istotności nie daje podstaw do odrzucenia H0 na rzecz H1 na poziomie istotności 1-alpha =0.95\n",
      "H0: μ = 4.92\n",
      "H1: μ ≠4.92\n",
      "|t| > t_alpha\n",
      "t = 1.8994107469740968, t_alpha = 1.7613101357748562\n",
      "Wynik testu istotności daje podstawy do odrzucenia H0 na rzecz H1 na poziomie istotności 1-alpha =0.9\n",
      "H0: μ = 4.92\n",
      "t > t_alpha\n",
      "t = 1.8994107469740968, t_alpha = -1.3450303744546486\n",
      "Wynik testu istotności nie daje podstaw do odrzucenia H0 na rzecz H1 na poziomie istotności 1-alpha =0.9\n",
      "H0: μ = 4.92\n",
      "t > t_alpha\n",
      "t = 1.8994107469740968, t_alpha = 1.345030374454649\n",
      "Wynik testu istotności daje podstawy do odrzucenia H0 na rzecz H1 na poziomie istotności 1-alpha =0.9\n"
     ]
    }
   ],
   "source": [
    "### Komórka testowa\n",
    "\n",
    "assert np.all(np.isclose(mean_NHST(test_data_1, 5.08, \"two-sided\", 0.05), (-1.9346677837081263, 2.1447866879169273, 0)))\n",
    "assert np.all(np.isclose(mean_NHST(test_data_1, 5.08, \"less\", 0.05), (-1.9346677837081263, -1.7613101357748564, 1)))\n",
    "assert np.all(np.isclose(mean_NHST(test_data_1, 5.08, \"greater\", 0.05), (-1.9346677837081263, 1.7613101357748562, 0)))\n",
    "\n",
    "assert np.all(np.isclose(mean_NHST(test_data_1, 4.92, \"two-sided\", 0.1), (1.8994107469740968, 1.7613101357748562, 1)))\n",
    "assert np.all(np.isclose(mean_NHST(test_data_1, 4.92, \"less\", 0.1), (1.8994107469740968, -1.3450303744546486, 0)))\n",
    "assert np.all(np.isclose(mean_NHST(test_data_1, 4.92, \"greater\", 0.1), (1.8994107469740968, 1.345030374454649, 1)))"
   ]
  },
  {
   "cell_type": "markdown",
   "id": "bfa431e1-155c-49e6-9a11-283d54fdec2d",
   "metadata": {
    "deletable": false,
    "editable": false,
    "nbgrader": {
     "cell_type": "markdown",
     "checksum": "aee9516a0b703b88332d52e5f8679a69",
     "grade": false,
     "grade_id": "cell-3b0506291edc9469",
     "locked": true,
     "schema_version": 3,
     "solution": false,
     "task": false
    },
    "tags": []
   },
   "source": [
    "### Zadanie 2: Weryfikacja hipotezy o wariancji [10 pkt]\n",
    "\n",
    "Przygotuj funkcję `variance_NHST()`, która będzie weryfikować hipotezę o wartości wariancji i wyświetlać wynik testu statystycznego zgodnie z wytycznymi zawartymi w treści zadania oraz w docstring funkcji.\n",
    "\n",
    "Poza zwracaniem zmiennych wymienionych w docsting funkcji, które są potrzebne do przeprowadzenia automatycznych testów funkcji powinna ona generować wykres zawierający:\n",
    "- funkcję gęstości prawdopodobieństwa rozkładu teoretycznego wykorzystywanego w teście w zakresie od wartości, dla której dystrybuanta tego rozkładu przyjmuje wartość 0.0001 do wartości, dla której dystrybuanta tego rozkładu przyjmuje wartość 0.9999,\n",
    "- zaznaczony wyróżniającym się kolorem fragmentem pola pod krzywą odpowiadający wyznaczonemu w teście obszarowi krytycznemu,\n",
    "- wyróżniającą się kolorem pionowę linię wysokości 1/3 maksymalnej wartości funkcji gęstości prawdopodobieństwa wskazującą obliczoną wartość statystyki chi2.\n",
    "\n",
    "Tytuł wykresu powinien zawierać w kolejnych liniach informację o:\n",
    "- postaci hipotezy zerowej,\n",
    "- postaci hipotezy alternatywnej,\n",
    "- wartości wyznaczonych statystyk chi2 i chi2_alpha lub chi2, chi2_alpha_1 i chi2_alpha_2 (w zależności od postaci obszaru krytycznego),\n",
    "- zależność między wartościami statystyk decydującą o wyniku testu,\n",
    "- informację o wyniku testu: \"Wynik testu istotności nie daje podstaw do odrzucenia H0 na rzecz H1 na poziomie istotności 1-alpha = A\" lub \"Odrzucenie H0 na rzecz H1 na poziomie istotności 1-alpha = A\".\n",
    "\n",
    "Wszystkie występujące w tytule wartości liczbowe powinny być automatycznie uzupełniane przez funkcję i odpowiednio sformatowane (4 miejsca po przecinku w przypadku chi2, chi2_alpha, chi2_alpha_1 i chi2_alpha_2, pozostałe wartości z formatowaniem domyślnym).\n",
    "\n",
    "Przykład komunikatu zawartego w tytule figury:</br>\n",
    "    `H0: s^2 = 25`</br>\n",
    "    `H1: s^2 > 25`</br>\n",
    "    `chi2 = 40.0000, chi2_alpha = 30.1435`</br>\n",
    "    `chi2 <= chi2_alpha`</br>\n",
    "    `Odrzucenie H0 na rzecz H1 na poziomie istotności 1-alpha = 0.95`</br>"
   ]
  },
  {
   "cell_type": "code",
   "execution_count": 75,
   "id": "ae050f3f-6061-40fb-8e96-3529e212b88e",
   "metadata": {
    "deletable": false,
    "nbgrader": {
     "cell_type": "code",
     "checksum": "7c263df87e882c7b499f097e07afea19",
     "grade": false,
     "grade_id": "cell-680e278168a0d2be",
     "locked": false,
     "schema_version": 3,
     "solution": true,
     "task": false
    },
    "tags": []
   },
   "outputs": [
    {
     "name": "stdout",
     "output_type": "stream",
     "text": [
      "H0: s^2 = 0.1\n",
      "chi2 < chi2_alpha_1 or chi2 > chi2_alpha_2\n",
      "chi2 = 3.6571, chi2_alpha = [5.628726103039731, 26.11894804503737]\n",
      "Wynik testu istotności nie daje podstaw do odrzucenia H0 na rzecz H1 na poziomie istotności 1-alpha = 0.95\n"
     ]
    },
    {
     "data": {
      "text/plain": [
       "(3.657103504858619, [5.628726103039731, 26.11894804503737], 1)"
      ]
     },
     "execution_count": 75,
     "metadata": {},
     "output_type": "execute_result"
    },
    {
     "data": {
      "image/png": "[encoded data removed]",
      "text/plain": [
       "<Figure size 2000x1000 with 1 Axes>"
      ]
     },
     "metadata": {},
     "output_type": "display_data"
    }
   ],
   "source": [
    "def variance_NHST(data, H0, H1, alpha):\n",
    "    \"\"\"\n",
    "    Parameters\n",
    "    -------\n",
    "    data: DataFrame\n",
    "        Tablica zawierająca domyślny indeks i kolumnę \"x\" wynikami próby losowej.\n",
    "    H0: float\n",
    "        Wariancji przyjęta jako hipoteza zerowa.\n",
    "    H1: str\n",
    "        Postać hipotezy alternatywnej, przyjmuje wartości:\n",
    "        - two-sided: wariancja jest różna od wartości przyjętej w H0,\n",
    "        - less: wariancja jest mniejsza od wartości przyjętej w H0,\n",
    "        - greater: wariancja jest większa od wartości przyjętej w H0.\n",
    "    alpha: float\n",
    "        Wartość określająca poziom istotności.\n",
    "    \n",
    "    Returns\n",
    "    -------\n",
    "    chi2: float\n",
    "        Wyliczona na podstawie próby losowej wartość statystyki chi2.\n",
    "    chi2_alpha: float or list\n",
    "        Wartość statystyki chi2_alpha lub lista z dwoma wartościami chi2_alpha_1 i chi2_alpha_2\n",
    "    H: int\n",
    "        Wynik testu statystycznego, przyjmuje wartość:\n",
    "        0 - gdy wynik testu istotności nie daje podstaw do odrzucenia H0 na rzecz H1 na poziomie istotności 1-alpha,\n",
    "        1 - gdy następuje odrzucenie H0 na rzecz H1 na poziomie istotności 1-alpha.\n",
    "    \"\"\"\n",
    "    # YOUR CODE HERE\n",
    "    x = test_data_1.iloc[:,0]\n",
    "    n = len(x)\n",
    "    x_theor = np.linspace(-4,4,1000)\n",
    "    chi2_theor = sp.stats.chi2.pdf(x_theor, n-1, loc=0, scale=1)\n",
    "    \n",
    "    \n",
    "    s2 = x.var()\n",
    "    chi2 = (n-1) * s2 / H0\n",
    "\n",
    "    if H1 == 'greater' :\n",
    "        chi2_alpha = sp.stats.chi2.ppf(1-alpha, n-1, loc=0, scale=1)\n",
    "        temp = \"H1: s^2 > \" + str(H0) + \"\\n\"\n",
    "        if chi2 < chi2_alpha :\n",
    "            temp = 'chi2 < chi2_alpha'\n",
    "            H = 0\n",
    "            wyn = \"Wynik testu istotności nie daje podstaw do odrzucenia H0 na rzecz H1 na poziomie istotności 1-alpha =\" + str(1-alpha)\n",
    "        else:\n",
    "            temp = 'chi2 >= chi2_alpha'\n",
    "            H = 1\n",
    "            wyn = \"Odrzucenie H0 na rzecz H1 na poziomie istotności 1-alpha = \" + str(1-alpha)    \n",
    "            \n",
    "    elif H1 == 'less':\n",
    "        chi2_alpha = sp.stats.chi2.ppf(alpha, n-1, loc=0, scale=1)\n",
    "        temp = \"H1: s^2 < \" + str(H0) + \"\\n\"\n",
    "        if chi2 > chi2_alpha:\n",
    "            temp = 'chi2 > chi2_alpha'\n",
    "            H = 0\n",
    "            wyn = \"Wynik testu istotności nie daje podstaw do odrzucenia H0 na rzecz H1 na poziomie istotności 1-alpha =\" + str(1-alpha)\n",
    "        else:\n",
    "            temp = 'chi2 <= chi2_alpha'\n",
    "            H = 1\n",
    "            wyn = \"Odrzucenie H0 na rzecz H1 na poziomie istotności 1-alpha = \" + str(1-alpha)\n",
    "    elif H1 == 'two-sided':\n",
    "        chi2_alpha_1 = sp.stats.chi2.ppf(alpha/2, n-1)\n",
    "        chi2_alpha_2 = sp.stats.chi2.ppf(1-alpha/2, n-1)\n",
    "        chi2_alpha = [chi2_alpha_1, chi2_alpha_2]\n",
    "        temp = \"H1: s^2 > \" + str(H0) + \"\\n\"\n",
    "        if chi2 < chi2_alpha_1 or chi2 > chi2_alpha_2:\n",
    "            temp = 'chi2 < chi2_alpha_1 or chi2 > chi2_alpha_2'\n",
    "            H = 1\n",
    "            wyn = \"Wynik testu istotności nie daje podstaw do odrzucenia H0 na rzecz H1 na poziomie istotności 1-alpha = \" + str(1-alpha)\n",
    "        else:\n",
    "            temp = 'chi2 >= chi2_alpha_1 and chi2 <= chi2_alpha_2'\n",
    "            H = 0\n",
    "            wyn = \"Odrzucenie H0 na rzecz H1 na poziomie istotności 1-alpha = \" + str(1-alpha)\n",
    "    else:\n",
    "        raise Exception(\"ZŁY ARGUMENT H1\")\n",
    "    \n",
    "    print(f\"H0: s^2 = {H0}\\n{temp}\\nchi2 = {chi2:.4f}, chi2_alpha = {chi2_alpha}\\n{wyn}\")\n",
    "\n",
    "    fig, ax = plt.subplots(1,1,figsize = (20,10))\n",
    "    #plt.plot(x_theor,chi2_theor, color = 'black')\n",
    "    \n",
    "    return (chi2, chi2_alpha, H)\n",
    "\n",
    "variance_NHST(test_data_1, 0.1, \"two-sided\", 0.05)\n",
    "\n",
    "\n",
    "# WYKRESY I DOROBIC WLASCIWE KOMNUNIKATY Z H1 "
   ]
  },
  {
   "cell_type": "code",
   "execution_count": 41,
   "id": "6cce95ae-0247-469f-8702-fb4cea50832c",
   "metadata": {
    "deletable": false,
    "editable": false,
    "nbgrader": {
     "cell_type": "code",
     "checksum": "f6f80593a721874b7c1ab6844156ecf9",
     "grade": true,
     "grade_id": "cell-ff4cd24a245590ff",
     "locked": true,
     "points": 10,
     "schema_version": 3,
     "solution": false,
     "task": false
    },
    "tags": []
   },
   "outputs": [
    {
     "name": "stdout",
     "output_type": "stream",
     "text": [
      "H0: s^2 = 0.1\n",
      "chi2 < chi2_alpha_1 or chi2 > chi2_alpha_2\n",
      "chi2 = 3.6571, chi2_alpha = [5.628726103039731, 26.11894804503737]\n",
      "Wynik testu istotności nie daje podstaw do odrzucenia H0 na rzecz H1 na poziomie istotności 1-alpha = 0.95\n",
      "H0: s^2 = 0.1\n",
      "chi2 <= chi2_alpha\n",
      "chi2 = 3.6571, chi2_alpha = 6.570631383789345\n",
      "Odrzucenie H0 na rzecz H1 na poziomie istotności 1-alpha = 0.95\n",
      "H0: s^2 = 0.1\n",
      "chi2 < chi2_alpha\n",
      "chi2 = 3.6571, chi2_alpha = 23.684791304840576\n",
      "Wynik testu istotności nie daje podstaw do odrzucenia H0 na rzecz H1 na poziomie istotności 1-alpha =0.95\n",
      "H0: s^2 = 0.013\n",
      "chi2 >= chi2_alpha_1 and chi2 <= chi2_alpha_2\n",
      "chi2 = 28.1316, chi2_alpha = [4.660425062657768, 29.141237740672796]\n",
      "Odrzucenie H0 na rzecz H1 na poziomie istotności 1-alpha = 0.98\n",
      "H0: s^2 = 0.013\n",
      "chi2 > chi2_alpha\n",
      "chi2 = 28.1316, chi2_alpha = 5.368197419889671\n",
      "Wynik testu istotności nie daje podstaw do odrzucenia H0 na rzecz H1 na poziomie istotności 1-alpha =0.98\n",
      "H0: s^2 = 0.013\n",
      "chi2 >= chi2_alpha\n",
      "chi2 = 28.1316, chi2_alpha = 26.872764642314312\n",
      "Odrzucenie H0 na rzecz H1 na poziomie istotności 1-alpha = 0.98\n"
     ]
    }
   ],
   "source": [
    "### Komórka testowa\n",
    "\n",
    "results = variance_NHST(test_data_1, 0.1, \"two-sided\", 0.05)\n",
    "assert np.all(np.isclose((results[0], results[1][0], results[1][1], results[2]), (3.657103504858619, 5.628726103039731, 26.11894804503737, 1)))\n",
    "assert np.all(np.isclose(variance_NHST(test_data_1, 0.1, \"less\", 0.05), (3.657103504858619, 6.570631383789345, 1)))\n",
    "assert np.all(np.isclose(variance_NHST(test_data_1, 0.1, \"greater\", 0.05), (3.657103504858619, 23.684791304840576, 0)))\n",
    "\n",
    "results = variance_NHST(test_data_1, 0.013, \"two-sided\", 0.02)\n",
    "assert np.all(np.isclose((results[0], results[1][0], results[1][1], results[2]), (28.13156542198938, 4.660425062657768, 29.141237740672796, 0)))\n",
    "assert np.all(np.isclose(variance_NHST(test_data_1, 0.013, \"less\", 0.02), (28.13156542198938, 5.368197419889671, 0)))\n",
    "assert np.all(np.isclose(variance_NHST(test_data_1, 0.013, \"greater\", 0.02), (28.13156542198938, 26.872764642314312, 1)))"
   ]
  },
  {
   "cell_type": "markdown",
   "id": "a20b37d1-87d1-49de-b7d6-fa96b5fdd6a2",
   "metadata": {
    "deletable": false,
    "editable": false,
    "nbgrader": {
     "cell_type": "markdown",
     "checksum": "8860802e8e60fc4e06f86f0822c8cc3d",
     "grade": false,
     "grade_id": "cell-19be5fe175f33116",
     "locked": true,
     "schema_version": 3,
     "solution": false,
     "task": false
    },
    "tags": []
   },
   "source": [
    "### Zadanie 3: Weryfikacja hipotezy o wskaźniku struktury (proporcji) [10 pkt]\n",
    "\n",
    "Przygotuj funkcję `proportion_NHST()`, która będzie weryfikować hipotezę o wartości wskaźnika struktury (proporcji) i wyświetlać wynik testu statystycznego zgodnie z wytycznymi zawartymi w treści zadania oraz w docstring funkcji.\n",
    "\n",
    "Poza zwracaniem zmiennych wymienionych w docsting funkcji, które są potrzebne do przeprowadzenia automatycznych testów funkcji powinna ona generować wykres zawierający:\n",
    "- funkcję gęstości prawdopodobieństwa rozkładu teoretycznego wykorzystywanego w teście w zakresie od wartości, dla której dystrybuanta tego rozkładu przyjmuje wartość 0.0001 do wartości, dla której dystrybuanta tego rozkładu przyjmuje wartość 0.9999,\n",
    "- zaznaczony wyróżniającym się kolorem fragmentem pola pod krzywą odpowiadający wyznaczonemu w teście obszarowi krytycznemu,\n",
    "- wyróżniającą się kolorem pionowę linię wysokości 1/3 maksymalnej wartości funkcji gęstości prawdopodobieństwa wskazującą obliczoną wartość statystyki u.\n",
    "\n",
    "Tytuł wykresu powinien zawierać w kolejnych liniach informację o:\n",
    "- postaci hipotezy zerowej,\n",
    "- postaci hipotezy alternatywnej,\n",
    "- wartości wyznaczonych statystyk u i u_alpha,\n",
    "- zależność między wartościami statystyk decydującą o wyniku testu,\n",
    "- informację o wyniku testu: \"Wynik testu istotności nie daje podstaw do odrzucenia H0 na rzecz H1 na poziomie istotności 1-alpha = A\" lub \"Odrzucenie H0 na rzecz H1 na poziomie istotności 1-alpha = A\".\n",
    "\n",
    "Wszystkie występujące w tytule wartości liczbowe powinny być automatycznie uzupełniane przez funkcję i odpowiednio sformatowane (4 miejsca po przecinku w przypadku u i u_alpha, pozostałe wartości z formatowaniem domyślnym).\n",
    "\n",
    "Przykład komunikatu zawartego w tytule figury:</br>\n",
    "    `H0: p = 0.3`</br>\n",
    "    `H1: p > 0.3`</br>\n",
    "    `u = 1.0494, u_alpha = 1.6449`</br>\n",
    "    `u < u_alpha`</br>\n",
    "    `Wynik testu istotności nie daje podstaw do odrzucenia H0 na rzecz H1 na poziomie istotności 1-alpha = 0.95`</br>"
   ]
  },
  {
   "cell_type": "code",
   "execution_count": 78,
   "id": "23716e9b-a58a-4fef-8a6d-fdf96fb5229a",
   "metadata": {
    "deletable": false,
    "nbgrader": {
     "cell_type": "code",
     "checksum": "b3fa9008421a6d7e1c71c12ae1e30968",
     "grade": false,
     "grade_id": "cell-655ca4a1e336a168",
     "locked": false,
     "schema_version": 3,
     "solution": true,
     "task": false
    },
    "tags": []
   },
   "outputs": [
    {
     "name": "stdout",
     "output_type": "stream",
     "text": [
      "H0: p = 0.25\n",
      "H1: p > 0.25\n",
      "|u| < u_alpha\n",
      "t = -1.3856406460551018, u_alpha = 1.6448536269514722\n",
      "Wynik testu istotności nie daje podstaw do odrzucenia H0 na rzecz H1 na poziomie istotności 1-alpha =0.9\n"
     ]
    },
    {
     "data": {
      "text/plain": [
       "(-1.3856406460551018, 1.6448536269514722, 0)"
      ]
     },
     "execution_count": 78,
     "metadata": {},
     "output_type": "execute_result"
    },
    {
     "data": {
      "image/png": "[encoded data removed]",
      "text/plain": [
       "<Figure size 2000x1000 with 1 Axes>"
      ]
     },
     "metadata": {},
     "output_type": "display_data"
    }
   ],
   "source": [
    "def proportion_NHST(data, H0, H1, alpha):\n",
    "    \"\"\"\n",
    "    Parameters\n",
    "    -------\n",
    "    data: DataFrame\n",
    "        Tablica zawierająca domyślny indeks i kolumnę \"x\" wynikami próby losowej (True, False).\n",
    "    H0: float\n",
    "        Wartość wskaźnika struktury przyjęta jako hipoteza zerowa.\n",
    "    H1: str\n",
    "        Postać hipotezy alternatywnej, przyjmuje wartości:\n",
    "        - two-sided: wartość wskaźnika struktury jest różna od wartości przyjętej w H0,\n",
    "        - less: wartość wskaźnika struktury jest mniejsza od wartości przyjętej w H0,\n",
    "        - greater: wartość wskaźnika struktury jest większa od wartości przyjętej w H0.\n",
    "    alpha: float\n",
    "        Wartość określająca poziom istotności.\n",
    "    \n",
    "    Returns\n",
    "    -------\n",
    "    u: float\n",
    "        Wyliczona na podstawie próby losowej wartość statystyki u.\n",
    "    u_alpha: float\n",
    "        Wartość statystyki u_alpha.\n",
    "    H: int\n",
    "        Wynik testu statystycznego, przyjmuje wartość:\n",
    "        0 - gdy wynik testu istotności nie daje podstaw do odrzucenia H0 na rzecz H1 na poziomie istotności 1-alpha,\n",
    "        1 - gdy następuje odrzucenie H0 na rzecz H1 na poziomie istotności 1-alpha.\n",
    "    \"\"\"\n",
    "    # YOUR CODE HERE\n",
    "    x = test_data_2.iloc[:,0]\n",
    "    n = len(x)\n",
    "    x_theor = np.linspace(-4,4,1000)\n",
    "    p_theor = sp.stats.norm.pdf(x_theor, loc=0, scale=1)\n",
    "\n",
    "    p = x.mean()\n",
    "    u = (p - H0) / np.sqrt(H0 * (1 - H0) / n)\n",
    "    \n",
    "\n",
    "\n",
    "    if H1 == 'greater' :\n",
    "        u_alpha = sp.stats.norm.ppf(1 - alpha, loc=0, scale=1)\n",
    "        temp = \"H1: p > \" + str(H0) + \"\\n\"\n",
    "        if u < u_alpha :\n",
    "            temp = 'u < u_alpha'\n",
    "            H = 0\n",
    "            wyn = \"Wynik testu istotności nie daje podstaw do odrzucenia H0 na rzecz H1 na poziomie istotności 1-alpha =\" + str(1-alpha)\n",
    "        else:\n",
    "            temp = 'u >= u_alpha'\n",
    "            H = 1\n",
    "            wyn = \"Odrzucenie H0 na rzecz H1 na poziomie istotności 1-alpha = \" + str(1-alpha)    \n",
    "            \n",
    "    elif H1 == 'less':\n",
    "        u_alpha = sp.stats.norm.ppf(alpha, loc=0, scale=1)\n",
    "        temp = \"H1: p < \" + str(H0) + \"\\n\"\n",
    "        if u > u_alpha:\n",
    "            temp = 'u> u_alpha'\n",
    "            H = 0\n",
    "            wyn = \"Wynik testu istotności nie daje podstaw do odrzucenia H0 na rzecz H1 na poziomie istotności 1-alpha =\" + str(1-alpha)\n",
    "        else:\n",
    "            temp = 'u <= u_alpha'\n",
    "            H = 1\n",
    "            wyn = \"Odrzucenie H0 na rzecz H1 na poziomie istotności 1-alpha = \" + str(1-alpha)\n",
    "    elif H1 == 'two-sided':\n",
    "        u_alpha = sp.stats.norm.ppf(1-alpha/2,loc=0, scale=1)\n",
    "        temp = \"H1: p > \" + str(H0) + \"\\n\"\n",
    "        if abs(u) < u_alpha :\n",
    "            temp += '|u| < u_alpha'\n",
    "            H = 0\n",
    "            wyn = \"Wynik testu istotności nie daje podstaw do odrzucenia H0 na rzecz H1 na poziomie istotności 1-alpha =\" + str(1-alpha)\n",
    "        else:\n",
    "            temp += '|u| > u_alpha'\n",
    "            H = 1 \n",
    "            wyn = \"Wynik testu istotności daje podstawy do odrzucenia H0 na rzecz H1 na poziomie istotności 1-alpha =\" + str(1-alpha)\n",
    "    else :\n",
    "        raise Exception(\"ZŁY ARGUMENT H0\")\n",
    "    \n",
    "    print(f\"H0: p = {H0}\\n{temp}\\nt = {u}, u_alpha = {u_alpha}\\n{wyn}\")\n",
    "    p_theor = sp.stats.norm.pdf(x_theor, loc=0, scale=1)\n",
    "\n",
    "    fig, ax = plt.subplots(1,1,figsize = (20,10))\n",
    "    plt.plot(x_theor,p_theor, color = 'black')\n",
    "    \n",
    "    return (u, u_alpha, H)\n",
    "\n",
    "    \n",
    "proportion_NHST(test_data_2, 0.25, \"two-sided\", 0.1)\n"
   ]
  },
  {
   "cell_type": "code",
   "execution_count": 58,
   "id": "2acbb947-18e4-42d6-a36a-e440ff331024",
   "metadata": {
    "deletable": false,
    "editable": false,
    "nbgrader": {
     "cell_type": "code",
     "checksum": "1dbc72d6a2dba88c352d5ab9783e96e6",
     "grade": true,
     "grade_id": "cell-6b14cacd20c443b8",
     "locked": true,
     "points": 10,
     "schema_version": 3,
     "solution": false,
     "task": false
    },
    "tags": []
   },
   "outputs": [
    {
     "name": "stdout",
     "output_type": "stream",
     "text": [
      "H0: p = 0.25\n",
      "H1: p > 0.25\n",
      "|u| < u_alpha\n",
      "t = -1.3856406460551018, u_alpha = 1.6448536269514722\n",
      "Wynik testu istotności nie daje podstaw do odrzucenia H0 na rzecz H1 na poziomie istotności 1-alpha =0.9\n",
      "H0: p = 0.25\n",
      "u <= u_alpha\n",
      "t = -1.3856406460551018, u_alpha = -1.2815515655446004\n",
      "Odrzucenie H0 na rzecz H1 na poziomie istotności 1-alpha = 0.9\n",
      "H0: p = 0.25\n",
      "u < u_alpha\n",
      "t = -1.3856406460551018, u_alpha = 1.2815515655446004\n",
      "Wynik testu istotności nie daje podstaw do odrzucenia H0 na rzecz H1 na poziomie istotności 1-alpha =0.9\n",
      "H0: p = 0.1\n",
      "H1: p > 0.1\n",
      "|u| > u_alpha\n",
      "t = 2.9999999999999996, u_alpha = 2.5758293035489004\n",
      "Wynik testu istotności daje podstawy do odrzucenia H0 na rzecz H1 na poziomie istotności 1-alpha =0.99\n",
      "H0: p = 0.1\n",
      "u> u_alpha\n",
      "t = 2.9999999999999996, u_alpha = -2.3263478740408408\n",
      "Wynik testu istotności nie daje podstaw do odrzucenia H0 na rzecz H1 na poziomie istotności 1-alpha =0.99\n",
      "H0: p = 0.1\n",
      "u >= u_alpha\n",
      "t = 2.9999999999999996, u_alpha = 2.3263478740408408\n",
      "Odrzucenie H0 na rzecz H1 na poziomie istotności 1-alpha = 0.99\n"
     ]
    }
   ],
   "source": [
    "### Komórka testowa\n",
    "assert np.all(np.isclose(proportion_NHST(test_data_2, 0.25, \"two-sided\", 0.1), (-1.3856406460551018, 1.6448536269514722, 0)))\n",
    "assert np.all(np.isclose(proportion_NHST(test_data_2, 0.25, \"less\", 0.1), (-1.3856406460551018, -1.2815515655446004, 1)))\n",
    "assert np.all(np.isclose(proportion_NHST(test_data_2, 0.25, \"greater\", 0.1), (-1.3856406460551018, 1.2815515655446004, 0)))\n",
    "\n",
    "assert np.all(np.isclose(proportion_NHST(test_data_2, 0.1, \"two-sided\", 0.01), (2.9999999999999996, 2.5758293035489004, 1)))\n",
    "assert np.all(np.isclose(proportion_NHST(test_data_2, 0.1, \"less\", 0.01), (2.9999999999999996, -2.3263478740408408, 0)))\n",
    "assert np.all(np.isclose(proportion_NHST(test_data_2, 0.1, \"greater\", 0.01), (2.9999999999999996, 2.3263478740408408, 1)))"
   ]
  }
 ],
 "metadata": {
  "kernelspec": {
   "display_name": "Python 3 (ipykernel)",
   "language": "python",
   "name": "python3"
  },
  "language_info": {
   "codemirror_mode": {
    "name": "ipython",
    "version": 3
   },
   "file_extension": ".py",
   "mimetype": "text/x-python",
   "name": "python",
   "nbconvert_exporter": "python",
   "pygments_lexer": "ipython3",
   "version": "3.11.2"
  }
 },
 "nbformat": 4,
 "nbformat_minor": 5
}
