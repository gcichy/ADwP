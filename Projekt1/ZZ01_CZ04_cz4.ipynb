{
 "cells": [
  {
   "cell_type": "markdown",
   "id": "686d167a",
   "metadata": {
    "deletable": false,
    "editable": false,
    "nbgrader": {
     "cell_type": "markdown",
     "checksum": "4d87ed846e09cbf1c8eae4e0f16bea9b",
     "grade": false,
     "grade_id": "cell-fcd2666579131b77",
     "locked": true,
     "schema_version": 3,
     "solution": false,
     "task": false
    },
    "tags": []
   },
   "source": [
    "# Analiza danych w języku Python - ćwiczenia laboratoryjne 2022/2023\n",
    "\n",
    "Ten notatnik zalicza się do grupy zestawów zadań, na podstawie których odbywa się zaliczenie ćwiczeń i podlega zwrotowi do oceny w ustalonym na zajęciach terminie.\n",
    "\n",
    "Uwagi i wytyczne ogólne dotyczące uzupełniania i oceny notatnika:\n",
    "- Podczas wykonywania zadań należy korzystać wyłącznie z pakietów zaimportowanych na początku notatnika oraz z pakietów wchodzących w skład standardowej biblioteki Pythona, które można zaimportować samodzielnie we wskazanej komórce notatnika.\n",
    "- Swoje rozwiązania należy wprowadzać wyłącznie w miejce następujących fragmentów kodu:<br/> `# YOUR CODE HERE`<br/> `raise NotImplementedError()`<br/> \n",
    "a odpowiedzi tekstowe w komórkach oznaczonych hasłem:<br/> \n",
    "`YOUR ANSWER HERE`<br/> \n",
    "Nie należy w żaden sposób modyfikować pozostałych fragmentów kodu oraz innych elementów notatnika, w szczególności dodawać lub usuwać komórek oraz zmieniać nazwy pliku.\n",
    "- Jeżeli zestaw zadań wymaga skorzystania z fragmentów kodu opracowanego w ramach wcześniejszych zestawów zadań należy je umieścić we wskazanej komórce notatnika.\n",
    "- Otrzymywane wyniki i odpowiedzi mają być rezultatem wykonania napisanego kodu, odpowiedzi uzupełniane manualnie nie podlegają ocenie.\n",
    "- Zadanie należy wykonać w taki sposób, aby podczas wykonywania kodu nie zostały wyświetlone żadne ostrzeżenia.\n",
    "- Zawarte w notatniku automatyczne testy mają charakter poglądowy. Dotyczą one wybranych aspektów zadań i mają za zadanie wyłapać podstawowe błędy. Przejście wszystkich testów nie oznacza, że zadanie jest wykonane w całości poprawnie i zostanie ocenione na maksymalną liczbę punktów.\n",
    "- Zadania, które powodują wyświetlenie komunikatu o błędzie przerywającym wykonywanie kodu nie podlegają ocenie.\n",
    "\n",
    "Uwagi i wytyczne ogólne dotyczące wizualizacji wyników:\n",
    "- Wszystkie wykresy powinny być wykonane w jednolitym, przejrzystym i czytelnym stylu, posiadać odpowiednio dobrane proporcje i zakresy wartości osi.\n",
    "- Wykresy oraz ich osie powinny mieć nadane tytuły. Jeżeli w obrębie figury znajduje się więcej niż jeden wykres to figura również powinna mieć nadany tytuł. \n",
    "- Figury powinny mieć ustawione białe tło, tak, aby niezależnie od ustawień notatnika wszystkie elementy wykresów były dobrze widoczne (domyślnie tło jest przeźroczyste co może powodować problemy w notatnikach z ustawionym ciemnym tłem).\n",
    "- Rozmiar poziomy figur nie powinien przekraczać 20 cali.\n",
    "\n",
    "Przed odesłaniem zestawu zadań do oceny proszę uzupełnić komórkę z danymi autorów rozwiązania (`NAME` - nazwa zespołu, `COLLABORATORS` - imiona, nazwiska i numery indeksów członków zespołu) oraz upewnić się, że notatnik działa zgodnie z oczekiwaniami. W tym celu należy skorzystać z opcji **Restart Kernel and Run All Cells...** dostępnej na górnej belce notatnika pod symbolem $\\blacktriangleright\\blacktriangleright$."
   ]
  },
  {
   "cell_type": "code",
   "execution_count": 1,
   "id": "5f40b0ed",
   "metadata": {},
   "outputs": [],
   "source": [
    "NAME = \"IAD15\"\n",
    "COLLABORATORS = \"Grzegorz Cichy 405708        Klaudia Buksa 405794\""
   ]
  },
  {
   "cell_type": "markdown",
   "id": "340a7734",
   "metadata": {
    "deletable": false,
    "editable": false,
    "nbgrader": {
     "cell_type": "markdown",
     "checksum": "eddc8826810e4a6f7bf68319da334bd9",
     "grade": false,
     "grade_id": "cell-109006d425e5cf83",
     "locked": true,
     "schema_version": 3,
     "solution": false,
     "task": false
    },
    "tags": []
   },
   "source": [
    "---"
   ]
  },
  {
   "cell_type": "markdown",
   "id": "3dc8b5f1-8b22-4781-876f-27826679533d",
   "metadata": {
    "deletable": false,
    "editable": false,
    "nbgrader": {
     "cell_type": "markdown",
     "checksum": "a068a28968a6b3cff36875b86660282b",
     "grade": false,
     "grade_id": "cell-a12f05a1065ccf65",
     "locked": true,
     "schema_version": 3,
     "solution": false,
     "task": false
    },
    "tags": []
   },
   "source": [
    "## Zestaw zadań 1: Elementy statystyki opisowej 1 (Notatnik 4/4)"
   ]
  },
  {
   "cell_type": "code",
   "execution_count": 2,
   "id": "a0f0ba49-958b-41f6-befc-cf77d7364345",
   "metadata": {
    "deletable": false,
    "editable": false,
    "nbgrader": {
     "cell_type": "code",
     "checksum": "9c1f9f1a79efb2ea5cdbaa8129434777",
     "grade": false,
     "grade_id": "cell-50608d099c9a113d",
     "locked": true,
     "schema_version": 3,
     "solution": false,
     "task": false
    },
    "tags": []
   },
   "outputs": [],
   "source": [
    "import numpy as np\n",
    "import pandas as pd\n",
    "import scipy as sp\n",
    "import matplotlib as mpl\n",
    "import matplotlib.pyplot as plt\n",
    "import seaborn as sns\n",
    "import dataframe_image as dfi"
   ]
  },
  {
   "cell_type": "code",
   "execution_count": 3,
   "id": "3afcbcf4-e4a1-4435-a432-bbc51129910d",
   "metadata": {
    "tags": []
   },
   "outputs": [],
   "source": [
    "# Miejsce do importu pakietów wchodzących w skład standardowej biblioteki Pythona oraz ustawienie opcji wykorzystywanych pakietów"
   ]
  },
  {
   "cell_type": "markdown",
   "id": "73cb2852-79f3-4f76-9303-a091a9be7623",
   "metadata": {
    "deletable": false,
    "editable": false,
    "nbgrader": {
     "cell_type": "markdown",
     "checksum": "b5e6796769736a19e74da254f5f66dc4",
     "grade": false,
     "grade_id": "cell-7e0c91af7d9408af",
     "locked": true,
     "schema_version": 3,
     "solution": false,
     "task": false
    },
    "tags": []
   },
   "source": [
    "### Zadanie 7: Analiza wyników [13 pkt]\n",
    "Scharakteryzuj wulkanizm ziemski na podstawie wyników analizy przeprowadzonej we wcześniejszych zadaniach zgodnie z poniższymi wytycznymi:\n",
    "- Umieść treść analizy w pojedynczej komórce Markdown. Oprócz tekstu wklej do niej wszystkie wykresy i tablice, do których odnosi się analiza.\n",
    "- W analizie oprzyj się przede wszystkim o tablice i grafiki przygotowane w ramach zadań 4-6 (niezbędne minimum).\n",
    "- Nie ograniczaj się wyłącznie do stwierdzeń typu \"zostało zarejestrowanych więcej erupcji o wartości VEI 6 niż 7\", tam gdzie to możliwe spróbuj wyciągnąć szersze, dalej idące wnioski o badanym zjawisku.\n",
    "- Wskaż problemy w analizie przeprowadzonej w ramach wykonanych wcześniej zadań i zaproponuj jakie zmiany należy do niej wprowadzić w celu ich rozwiązania.\n",
    "- Jeżeli widzisz taką potrzebę możesz wygenerować dodatkowe tablice i grafiki, w takim przypadku generujący je kod powinien zostać umieszczony w komórce poprzedzającej komórkę z treścią analizy.\n",
    "\n",
    "Wskazówki dotyczące pozyskiwania i wklejania grafik do komórki markdown:\n",
    "- przygotowane wykresy można zapisać do plików za pomocą kodu: `fig.savefig('image.png')`, gdzie `fig` to zmienna zawierająca wykres przygotowany z wykorzystaniem `plt.subplots()`, a `'image.png'` to nazwa pliku, do którego ma zostać zapisana.\n",
    "- przygotowane tablice można zapisać do plików za pomocą kodu: `dfi.export(styled_df, 'df.png')`, gdzie `styled_df` to zmienna zawierająca odpowiednio sformatowaną tablicę, a `'df.png'` to nazwa pliku, do którego ma zostać zapisana.\n",
    "- zapisane do plików grafiki można wklejać do komórki markdown za pomocą następującej formuły: `![](table.png)`, gdzie `table.png` to nazwa pliku, do którego ma zostać wstawiony do komórki.\n",
    "\n",
    "Po wygenerowaniu plików z grafikami nie należy uzuwać z notatników kodu wykorzystanego podczas ich przygotowywania, w tym formuł `fig.savefig()` i `dfi.export()`."
   ]
  },
  {
   "cell_type": "code",
   "execution_count": 4,
   "id": "e789ed69-15b2-4b3e-8ff0-41e7137b6f60",
   "metadata": {
    "tags": []
   },
   "outputs": [],
   "source": [
    "\n",
    "eruptions_data = pd.read_csv('eruptions_data.csv')\n",
    "eruptions_data = eruptions_data.set_index('Eruption Number')\n",
    "eruptions_data\n",
    "\n",
    "columns=['f','cf','rf','crf']\n",
    "vei_data_1 = pd.DataFrame(columns = columns)\n",
    "vei_data_1['VEI'] = eruptions_data['VEI'].unique()\n",
    "vei_data_1 = vei_data_1.set_index('VEI')\n",
    "\n",
    "f = [ len(eruptions_data[eruptions_data['VEI']==i]) for i in eruptions_data['VEI'].unique() ]\n",
    "cf = [ len(eruptions_data[eruptions_data['VEI']<=i]) for i in eruptions_data['VEI'].unique() ]\n",
    "size = len(eruptions_data)\n",
    "rf = [ len(eruptions_data[eruptions_data['VEI']==i])/size for i in eruptions_data['VEI'].unique()]\n",
    "crf = [ len(eruptions_data[eruptions_data['VEI']<=i])/size for i in eruptions_data['VEI'].unique()]\n",
    "\n",
    "vei_data_1['f']=f\n",
    "vei_data_1['cf']=cf\n",
    "vei_data_1['rf']=rf\n",
    "vei_data_1['crf']=crf\n",
    "vei_data_1 = vei_data_1.sort_index()\n",
    "vei_data_1\n",
    "\n",
    "confirmed = eruptions_data[eruptions_data['Eruption Category']=='Confirmed']\n",
    "\n",
    "columns=['f','cf','rf','crf']\n",
    "vei_data_2 = pd.DataFrame(columns = columns)\n",
    "vei_data_2['VEI'] = confirmed['VEI'].unique()\n",
    "vei_data_2 = vei_data_2.set_index('VEI')\n",
    "\n",
    "f = [ len(confirmed[confirmed['VEI']==i]) for i in confirmed['VEI'].unique() ]\n",
    "cf = [ len(confirmed[confirmed['VEI']<=i]) for i in confirmed['VEI'].unique() ]\n",
    "size = len(confirmed)\n",
    "rf = [ len(confirmed[confirmed['VEI']==i])/size for i in confirmed['VEI'].unique()]\n",
    "crf = [ len(confirmed[confirmed['VEI']<=i])/size for i in confirmed['VEI'].unique()]\n",
    "\n",
    "vei_data_2['f']=f\n",
    "vei_data_2['cf']=cf\n",
    "vei_data_2['rf']=rf\n",
    "vei_data_2['crf']=crf\n",
    "vei_data_2 = vei_data_2.sort_index()\n",
    "\n",
    "uncertain = eruptions_data[eruptions_data['Eruption Category']=='Uncertain']\n",
    "\n",
    "columns=['f','cf','rf','crf']\n",
    "vei_data_3 = pd.DataFrame(columns = columns)\n",
    "vei_data_3['VEI'] = uncertain['VEI'].unique()\n",
    "vei_data_3 = vei_data_3.set_index('VEI')\n",
    "\n",
    "f = [ len(uncertain[uncertain['VEI']==i]) for i in uncertain['VEI'].unique() ]\n",
    "cf = [ len(uncertain[uncertain['VEI']<=i]) for i in uncertain['VEI'].unique() ]\n",
    "size = len(uncertain)\n",
    "rf = [ len(uncertain[uncertain['VEI']==i])/size for i in uncertain['VEI'].unique()]\n",
    "crf = [ len(uncertain[uncertain['VEI']<=i])/size for i in uncertain['VEI'].unique()]\n",
    "\n",
    "vei_data_3['f']=f\n",
    "vei_data_3['cf']=cf\n",
    "vei_data_3['rf']=rf\n",
    "vei_data_3['crf']=crf\n",
    "vei_data_3 = vei_data_3.sort_index()\n",
    "vei_data = {}\n",
    "vei_data['All eruptions'] = vei_data_1\n",
    "vei_data['Confirmed Eruptions'] = vei_data_2\n",
    "vei_data['Uncertain Eruptions'] = vei_data_3\n",
    "vei_data = pd.concat(vei_data, axis = 1)\n",
    "#pd.options.display.float_format = '{:.4f}'.format\n",
    "lst = [i for i in vei_data.columns if i[1] in ('rf', 'crf')]\n",
    "form_d1 = {i : '{:.4f}' for i in lst}\n",
    "form_d2 = {i : '{:.0f}' for i in vei_data.columns if (i[1] in ('f', 'cf')) & (i[0] in ('Uncertain Eruptions'))}\n",
    "form_d = {**form_d1, **form_d2}\n",
    "#vei_data.to_csv('vei_data.csv')\n",
    "dfi.export(vei_data.style.format_index({\"VEI\" : \"{:.0f}\"}).format(form_d), 'vei_data.png')\n",
    "vei_data.style.format_index({\"VEI\" : \"{:.0f}\"}).format(form_d)\n",
    "\n",
    "uncertaincy_percent = pd.DataFrame(data = {'percent of uncertain' : vei_data[('Uncertain Eruptions', 'f')]/vei_data[('Confirmed Eruptions', 'f')]*100})\n",
    "uncertaincy_percent.style.format_index({\"VEI\" : \"{:.0f}\"}).format({'percent of uncertain': '{:.1f}%'})\n",
    "dfi.export(uncertaincy_percent.style.format_index({\"VEI\" : \"{:.0f}\"}).format({'percent of uncertain': '{:.1f}%'}),'uncertaincy_percent.png')"
   ]
  },
  {
   "cell_type": "markdown",
   "id": "79045acb-3c92-4e3e-a418-d020c5375d69",
   "metadata": {
    "deletable": false,
    "nbgrader": {
     "cell_type": "markdown",
     "checksum": "a9cd4b09ab5139fd50e3b90a537a35a2",
     "grade": true,
     "grade_id": "cell-152c404baa500092",
     "locked": false,
     "points": 13,
     "schema_version": 3,
     "solution": true,
     "task": false
    },
    "tags": []
   },
   "source": [
    "## Charakterystyka wulkanizmu ziemskiego na podstawie przeprowadzonej analizy \n",
    "Dane użyte do naszej analizy to plik zawierający informacje o erupcjach wulkanów na całym świecie, nie tylko tych współczesnych, ale wszystkich, które udało się udokumentować metodami archeologicznymi jak naprzykład datowanie radiowęglowe. Oprócz miejsca i daty erupcji, zebrano także informacje o mocy erupcji - skala 'VEI' oraz o sposobie udokumentowania danego wybuchu.\n",
    "\n",
    "## Oto wnioski jakie wyciągnęliśmy analizując dostarczone dane:\n",
    "### 1. Rozkład erupcji w czasie\n",
    "![](strip_plots.png)\n",
    "- Jak widać na wykresach, najstarsza erupcja jaką udało się zarejestrować jest datowana między 12000 p.n.e. a 11000 p.n.e i została odkryta metodą izotopową.\n",
    "- Metodami udokumentowania erupcje datowanych na wcześniej niż 1000 p.n.e są w większości izotopowa i korelacyjna - nie występuje tam metoda obserwacji, co wiąże się z etapem rozwoju ludzkości - pismo wtedy dopiero rozwijało się w niektórych kulturach, a jeśli coś zostało już zapisane to prawdopodobnie relacja taka nie przetrwała do czasów współczesnych.\n",
    "- n]Na pierwszym z wykresów widać, jak bardzo zwiększyła się ilość zarejestrowanych erupcji w czasach współczesnych w porównaniu nawet do XV - XVI wieku. Prawdopodobnie nie jest to spowodowane zwięszeniem intensywności procesów wulkanicznych, ale rozwojem nauki i technologii (czujników itp.), metod wykrywania erupcji chociażby tych podwodnych, które jeszcze kilkaset lat temu były niewykrywalne dla ludzi.\n",
    "- Najpotężniejsze erupcje (VEI = 7) na przestrzeni 8000 lat występiły 7 razy w dość regularnych odstępach czasu - 500 - 1500 lat. Jako, że ostatnia taka erupcja miała miejsce w 1812 roku, można zaryzykować stwierdzenie, że w najbliższych 100 - 200 tak potężna erupcja nie wystąpi - chociaż należy to poddać dokładniejszemu badaniu.\n",
    "### 2. Metody wykrywania erupcji\n",
    "![](evidence_data.png)\n",
    "- około 70% wszystkich erupcji jest udokumentowane po prostu obserwacją\n",
    "- inne znaczące metody dokumentacji to metoda izotopowa (10%) oraz korelacyjna (6%)\n",
    "- metoda około 7% wszystkich udokumentowanych erupcji jest uznana jako niepewna\n",
    "\n",
    "### 3. Rozkład erupcji ze względu na VEI - Volcanic explosivity index\n",
    "VEI to skala mierząca objętość materiału wydzielonego przez wulkan w trakcie erupcji\n",
    "![](f_crf.png)\n",
    "![](vei_data.png)\n",
    "- Zdecydowanie najwięcej erupcji na świecie mieści się w granicach poziomu 2 (objętość materiału piroklastycznego między 0.001 km^3 a 0.01 km^3).\n",
    "- Brak danych na temat niepotwierdzonych erupcji o mocy większej niż 4 w skali VEI świadczy najprawdopodobniej o tym, że tak silna erupcja nie może pozostać niezauważona ze względu na swój wpływ na otoczenie.\n",
    "\n",
    "![](uncertaincy_percent.png)\n",
    "- patrząc na tabelę powyżej widać, że wraz z rosnącym poziomem VEI maleje procentowy udział erupcji niepotwierdzonych w ogóle erupcji. Im silniejsza jest erupcja, tym rzadziej zdarza się, że istnieją wątpliwości co do jej wystąpienia\n",
    "\n",
    "\n",
    "### Problemy w analizie przeprowadzonej w ramach wykonanych wcześniej zadań \n",
    "- Przede wszystkim problem natury technicznej - wciąż jesteśmy trochę zagubieni przy manipulowaniu danymi z użyciem pandas. Jest jedno rozwiązanie tego problemu - praktyka.\n"
   ]
  },
  {
   "cell_type": "code",
   "execution_count": null,
   "id": "7c250c67",
   "metadata": {},
   "outputs": [],
   "source": []
  }
 ],
 "metadata": {
  "kernelspec": {
   "display_name": "Python 3 (ipykernel)",
   "language": "python",
   "name": "python3"
  },
  "language_info": {
   "codemirror_mode": {
    "name": "ipython",
    "version": 3
   },
   "file_extension": ".py",
   "mimetype": "text/x-python",
   "name": "python",
   "nbconvert_exporter": "python",
   "pygments_lexer": "ipython3",
   "version": "3.10.7"
  }
 },
 "nbformat": 4,
 "nbformat_minor": 5
}
