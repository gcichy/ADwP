{
 "cells": [
  {
   "cell_type": "markdown",
   "id": "9cf5962f",
   "metadata": {
    "deletable": false,
    "editable": false,
    "nbgrader": {
     "cell_type": "markdown",
     "checksum": "4d87ed846e09cbf1c8eae4e0f16bea9b",
     "grade": false,
     "grade_id": "cell-fcd2666579131b77",
     "locked": true,
     "schema_version": 3,
     "solution": false,
     "task": false
    },
    "tags": []
   },
   "source": [
    "# Analiza danych w języku Python - ćwiczenia laboratoryjne 2022/2023\n",
    "\n",
    "Ten notatnik zalicza się do grupy zestawów zadań, na podstawie których odbywa się zaliczenie ćwiczeń i podlega zwrotowi do oceny w ustalonym na zajęciach terminie.\n",
    "\n",
    "Uwagi i wytyczne ogólne dotyczące uzupełniania i oceny notatnika:\n",
    "- Podczas wykonywania zadań należy korzystać wyłącznie z pakietów zaimportowanych na początku notatnika oraz z pakietów wchodzących w skład standardowej biblioteki Pythona, które można zaimportować samodzielnie we wskazanej komórce notatnika.\n",
    "- Swoje rozwiązania należy wprowadzać wyłącznie w miejce następujących fragmentów kodu:<br/> `# YOUR CODE HERE`<br/> `raise NotImplementedError()`<br/> \n",
    "a odpowiedzi tekstowe w komórkach oznaczonych hasłem:<br/> \n",
    "`YOUR ANSWER HERE`<br/> \n",
    "Nie należy w żaden sposób modyfikować pozostałych fragmentów kodu oraz innych elementów notatnika, w szczególności dodawać lub usuwać komórek oraz zmieniać nazwy pliku.\n",
    "- Jeżeli zestaw zadań wymaga skorzystania z fragmentów kodu opracowanego w ramach wcześniejszych zestawów zadań należy je umieścić we wskazanej komórce notatnika.\n",
    "- Otrzymywane wyniki i odpowiedzi mają być rezultatem wykonania napisanego kodu, odpowiedzi uzupełniane manualnie nie podlegają ocenie.\n",
    "- Zadanie należy wykonać w taki sposób, aby podczas wykonywania kodu nie zostały wyświetlone żadne ostrzeżenia.\n",
    "- Zawarte w notatniku automatyczne testy mają charakter poglądowy. Dotyczą one wybranych aspektów zadań i mają za zadanie wyłapać podstawowe błędy. Przejście wszystkich testów nie oznacza, że zadanie jest wykonane w całości poprawnie i zostanie ocenione na maksymalną liczbę punktów.\n",
    "- Zadania, które powodują wyświetlenie komunikatu o błędzie przerywającym wykonywanie kodu nie podlegają ocenie.\n",
    "\n",
    "Uwagi i wytyczne ogólne dotyczące wizualizacji wyników:\n",
    "- Wszystkie wykresy powinny być wykonane w jednolitym, przejrzystym i czytelnym stylu, posiadać odpowiednio dobrane proporcje i zakresy wartości osi.\n",
    "- Wykresy oraz ich osie powinny mieć nadane tytuły. Jeżeli w obrębie figury znajduje się więcej niż jeden wykres to figura również powinna mieć nadany tytuł. \n",
    "- Figury powinny mieć ustawione białe tło, tak, aby niezależnie od ustawień notatnika wszystkie elementy wykresów były dobrze widoczne (domyślnie tło jest przeźroczyste co może powodować problemy w notatnikach z ustawionym ciemnym tłem).\n",
    "- Rozmiar poziomy figur nie powinien przekraczać 20 cali.\n",
    "\n",
    "Przed odesłaniem zestawu zadań do oceny proszę uzupełnić komórkę z danymi autorów rozwiązania (`NAME` - nazwa zespołu, `COLLABORATORS` - imiona, nazwiska i numery indeksów członków zespołu) oraz upewnić się, że notatnik działa zgodnie z oczekiwaniami. W tym celu należy skorzystać z opcji **Restart Kernel and Run All Cells...** dostępnej na górnej belce notatnika pod symbolem $\\blacktriangleright\\blacktriangleright$."
   ]
  },
  {
   "cell_type": "code",
   "execution_count": 2,
   "id": "c986566b",
   "metadata": {},
   "outputs": [],
   "source": [
    "NAME = \"IAD15\"\n",
    "COLLABORATORS = \"Grzegorz Cichy 405708        Klaudia Buksa 405794\""
   ]
  },
  {
   "cell_type": "markdown",
   "id": "40e8aab2",
   "metadata": {
    "deletable": false,
    "editable": false,
    "nbgrader": {
     "cell_type": "markdown",
     "checksum": "eddc8826810e4a6f7bf68319da334bd9",
     "grade": false,
     "grade_id": "cell-109006d425e5cf83",
     "locked": true,
     "schema_version": 3,
     "solution": false,
     "task": false
    },
    "tags": []
   },
   "source": [
    "---"
   ]
  },
  {
   "cell_type": "markdown",
   "id": "3dc8b5f1-8b22-4781-876f-27826679533d",
   "metadata": {
    "deletable": false,
    "editable": false,
    "nbgrader": {
     "cell_type": "markdown",
     "checksum": "cf47339c6e0a9533830524800e5ebaa3",
     "grade": false,
     "grade_id": "cell-a12f05a1065ccf65",
     "locked": true,
     "schema_version": 3,
     "solution": false,
     "task": false
    },
    "tags": []
   },
   "source": [
    "## Zestaw zadań 3: Elementy statystyki opisowej 3 (Notatnik 4/4)"
   ]
  },
  {
   "cell_type": "code",
   "execution_count": 3,
   "id": "a0f0ba49-958b-41f6-befc-cf77d7364345",
   "metadata": {
    "deletable": false,
    "editable": false,
    "nbgrader": {
     "cell_type": "code",
     "checksum": "9c1f9f1a79efb2ea5cdbaa8129434777",
     "grade": false,
     "grade_id": "cell-50608d099c9a113d",
     "locked": true,
     "schema_version": 3,
     "solution": false,
     "task": false
    },
    "tags": []
   },
   "outputs": [],
   "source": [
    "import numpy as np\n",
    "import pandas as pd\n",
    "import scipy as sp\n",
    "import matplotlib as mpl\n",
    "import matplotlib.pyplot as plt\n",
    "import seaborn as sns\n",
    "import dataframe_image as dfi"
   ]
  },
  {
   "cell_type": "code",
   "execution_count": 4,
   "id": "3afcbcf4-e4a1-4435-a432-bbc51129910d",
   "metadata": {
    "tags": []
   },
   "outputs": [],
   "source": [
    "# Miejsce do importu pakietów wchodzących w skład standardowej biblioteki Pythona oraz ustawienie opcji wykorzystywanych pakietów"
   ]
  },
  {
   "cell_type": "markdown",
   "id": "73cb2852-79f3-4f76-9303-a091a9be7623",
   "metadata": {
    "deletable": false,
    "editable": false,
    "nbgrader": {
     "cell_type": "markdown",
     "checksum": "c8a3387fecf14ec08412e86c0b053249",
     "grade": false,
     "grade_id": "cell-7e0c91af7d9408af",
     "locked": true,
     "schema_version": 3,
     "solution": false,
     "task": false
    },
    "tags": []
   },
   "source": [
    "### Zadanie 6: Analiza wyników [15 pkt]\n",
    "Scharakteryzuj ruch rowerowy moście Fremont Bridge w Seattle w 2022 roku na podstawie wyników analizy przeprowadzonej we wcześniejszych zadaniach zgodnie z poniższymi wytycznymi:\n",
    "- Umieść treść analizy w pojedynczej komórce Markdown. Oprócz tekstu wklej do niej wszystkie wykresy i tablice, do których odnosi się analiza.\n",
    "- Zawrzyj w analizie wnioski odnośnie zmian w natężeniu ruchu rowerowego w ciągu roku, w poszczególnych dniach tygodnia, w dni robocze i weekendy (tygodniowy charakter ruchu) oraz w poszczególnych godzinach z podziałem na dni robocze i weekendy (dzienny charakter ruchu).\n",
    "- Jeżeli dane wskazują na różnicę w charakterze ruchu pomiędzy wschodnią i zachodnią stroną mostu należy zawrzeć w analizie tę informację oraz wyciągnięte na jej podstawie wnioski.\n",
    "- Dokonaj analizy wpływu pogody na natężenie ruchu rowerowego.\n",
    "- Nie ograniczaj się wyłącznie do stwierdzeń typu \"średnia liczba osób przejeżdżających przez most w poniedziałki była niższa niż średnia liczba osób przejeżdżających przez most we wtorki\", tam gdzie to możliwe spróbuj wyciągnąć szersze, dalej idące wnioski o badanym zjawisku.\n",
    "- Wskaż problemy w analizie przeprowadzonej w ramach wykonanych wcześniej zadań i zaproponuj jakie zmiany należy do niej wprowadzić w celu ich rozwiązania.\n",
    "- Jeżeli widzisz taką potrzebę możesz wygenerować dodatkowe tablice i grafiki, w takim przypadku generujący je kod powinien zostać umieszczony w komórce poprzedzającej komórkę z treścią analizy.\n",
    "\n",
    "Wskazówki dotyczące pozyskiwania i wklejania grafik do komórki markdown:\n",
    "- przygotowane wykresy można zapisać do plików za pomocą kodu: `fig.savefig('image.png')`, gdzie `fig` to zmienna zawierająca wykres przygotowany z wykorzystaniem `plt.subplots()`, a `'image.png'` to nazwa pliku, do którego ma zostać zapisana.\n",
    "- przygotowane tablice można zapisać do plików za pomocą kodu: `dfi.export(styled_df, 'df.png')`, gdzie `styled_df` to zmienna zawierająca odpowiednio sformatowaną tablicę, a `'df.png'` to nazwa pliku, do którego ma zostać zapisana.\n",
    "- zapisane do plików grafiki można wklejać do komórki markdown za pomocą następującej formuły: `![](table.png)`, gdzie `table.png` to nazwa pliku, do którego ma zostać wstawiony do komórki.\n",
    "\n",
    "Po wygenerowaniu plików z grafikami nie należy uzuwać z notatników kodu wykorzystanego podczas ich przygotowywania, w tym formuł `fig.savefig()` i `dfi.export()`."
   ]
  },
  {
   "cell_type": "code",
   "execution_count": 5,
   "id": "e789ed69-15b2-4b3e-8ff0-41e7137b6f60",
   "metadata": {
    "tags": []
   },
   "outputs": [
    {
     "name": "stderr",
     "output_type": "stream",
     "text": [
      "C:\\Users\\gcich\\AppData\\Local\\Programs\\Python\\Python310\\lib\\site-packages\\pandas\\core\\common.py:245: VisibleDeprecationWarning: Creating an ndarray from ragged nested sequences (which is a list-or-tuple of lists-or-tuples-or ndarrays with different lengths or shapes) is deprecated. If you meant to do this, you must specify 'dtype=object' when creating the ndarray.\n",
      "  result = np.asarray(values, dtype=dtype)\n"
     ]
    }
   ],
   "source": [
    "import pickle\n",
    "from matplotlib.lines import Line2D\n",
    "\n",
    "daily_bike_traffic_data = pickle.load(open(\"daily_bike_traffic_data.pkl\", \"rb\"))\n",
    "weather_data = pickle.load(open(\"weather_data.pkl\", \"rb\"))\n",
    "\n",
    "all_data = pd.concat([weather_data, daily_bike_traffic_data], axis = 1)\n",
    "cut_data = all_data[all_data[('Precipitation','Total')] > 0]\n",
    "cut_data = cut_data[[('Precipitation','Total'), ('Sky', 'Cloud cover'),'Total']]\n",
    "\n",
    "dfi.export(cut_data.corr(),'opad_kor.png')\n",
    "\n",
    "def plot_props(ax, title, xlabel, ylabel, font_size, ymin, ymax, xmin, xmax, xrotation = 0):\n",
    "    plt.sca(ax)\n",
    "    ax.set_title(title, fontsize = font_size+8)\n",
    "    plt.yticks(fontsize = font_size)\n",
    "    plt.xticks(rotation = xrotation, fontsize = font_size)\n",
    "    plt.xlabel(xlabel,fontsize = font_size+6)\n",
    "    plt.ylabel(ylabel,fontsize = font_size+6)\n",
    "    ax.set_xlim(xmin,xmax)\n",
    "    ax.set_ylim(ymin,ymax)\n",
    "\n",
    "fig, ax = plt.subplots(2,1,figsize=(20,14))\n",
    "fig.suptitle('Temperatura, (nie)zachmurzenie a liczba rowerzystów', fontsize = 30)\n",
    "\n",
    "\n",
    "x = weather_data.index.to_timestamp()\n",
    "\n",
    "custom_lines = [Line2D([0], [0], color=\"red\", lw=4),\n",
    "                Line2D([0], [0], color=\"green\", lw=4)]\n",
    "\n",
    "ax0 = ax[0].twinx()\n",
    "sns.lineplot(x=x, y=weather_data['Temperature','Min'], ax=ax[0], color='red')\n",
    "sns.lineplot(x=x, y=daily_bike_traffic_data['Total'], ax=ax0, color='green')\n",
    "plot_props(ax[0],'Temperatura a rowerzyści', 'Data', 'Temperatura ℃', 16, -10,30, x.min(), x.max(), xrotation = 0)\n",
    "plot_props(ax0,'Temperatura a rowerzyści', 'Data', 'Liczba rowerzystów', 16, 0,4500, x.min(), x.max(), xrotation = 0)\n",
    "\n",
    "ax1 = ax[1].twinx() \n",
    "sns.lineplot(x=x, y=1-weather_data['Sky','Cloud cover'], ax=ax[1], color='red')\n",
    "sns.lineplot(x=x, y=daily_bike_traffic_data['Total'], ax=ax1, color='green')\n",
    "#axes[0].fill_between(x, y1, y2, alpha=0.1, color='olive')\n",
    "plot_props(ax[1],'Niezachmurzenie a rowerzyści', 'Data', 'Temperatura ℃', 16, 0,1, x.min(), x.max(), xrotation = 0)\n",
    "plot_props(ax1,'Niezachmurzenie a rowerzyści', 'Data', 'Liczba rowerzystów', 16, 0,4500, x.min(), x.max(), xrotation = 0)\n",
    "\n",
    "plt.sca(ax[0])\n",
    "plt.legend(custom_lines, ['Temperatura', 'Rowerzyści'],fontsize = 12, loc = 'upper right', bbox_to_anchor = [1.16,1])\n",
    "plt.sca(ax[1])\n",
    "plt.legend(custom_lines, ['Niezachmurzenie', 'Rowerzyści'],fontsize = 12,loc = 'upper right', bbox_to_anchor = [1.18,1])\n",
    "\n",
    "plt.savefig('temp_zachm_row.png')\n",
    "plt.close(fig)"
   ]
  },
  {
   "cell_type": "markdown",
   "id": "79045acb-3c92-4e3e-a418-d020c5375d69",
   "metadata": {
    "deletable": false,
    "nbgrader": {
     "cell_type": "markdown",
     "checksum": "aeaa48637c159e037354ad072c54f33c",
     "grade": true,
     "grade_id": "cell-152c404baa500092",
     "locked": false,
     "points": 15,
     "schema_version": 3,
     "solution": true,
     "task": false
    },
    "tags": []
   },
   "source": [
    "# **Charakterystyka ruchu rowerowego na moście Fremont Bridge w Seattle w 2022 roku na podstawie wyników przeprowadzonej analizy**\n",
    "\n",
    "# 1. Natężenie ruchu względem czasu\n",
    "\n",
    "Poniższe wykresy prezentują jak rozkładała się liczba rowerzystów przejeżdzających przez most wg dni roku, dni tygodnia, godzin w dni robocze oraz godzin w weekendy.\n",
    "\n",
    "\n",
    "![](ruch_czas.png)\n",
    "\n",
    "\n",
    "**Natężenie wg dni**\n",
    "\n",
    "   - Zgodnie z intuicją trend natężenia ruchu rowerowego rośnie wiosną, peak osiąga latem, spada jesienią i minimalne wartości przyjmuje na przełomie grudnia i stycznia.\n",
    "    Co ciekawe, jedno z najwyższych natężeń ruchu zostało odnotowane zostało odnotowane 7 kwietnia:\n",
    "\n",
    "![](top_total.png)\n",
    "\n",
    "   Jest to całkowity outlier w porówaniu do obserwacji o tej porze roku. Za jego przyczynę może być odpowiedzialna pogoda (hipoteza zostanie później zweryfikowana) lub jakiś czynnik społeczny, być może wyścig rowerowy, którego trasa prowadziła przez ten most.\n",
    "    \n",
    "   - Duże wahania wartości ruchu rowerowego na przestrzeni niewielkich okresów czasu, są prawdopodobnie skorelowane ze zmianami pogody (hipoteza zostanie później zweryfikowana).\n",
    "  \n",
    "**Średnie natężenie wg dni tygodnia**\n",
    "   - Największe natężenie ruchu rowerowego występuje we wtorek, jednak peak ten jest spowodowany jedynie liczbą rowerzystów po zachodniej stronie mostu. Widać tutaj wyraźną różnicę między obiema stronami.\n",
    "   - W tygodniu przez most przejeżdża więcej rowerzystów niż w weekend. Jest to prawdopodobnie wynikiem tego, że sporo osób jeździ rowerem do pracy i w weekend nie używają rowerów.\n",
    "   \n",
    "**Średnie natężenie wg godzin w weekend**\n",
    "   - Rozkład wartości na tym wykresie jest zbliżony do gaussowskiego, przyjmuje maksymalną wartość ok. godziny 15 - jest to najprawdopodobniej poobiedni czas rodzinnych wyjazdów rowerowych.\n",
    "   \n",
    "**Średnie Natężenie wg godzin w dni robocze**\n",
    "   - W przeciwieństwie do rzokładu wartości dla weekendów, widać tu wyraźnie 2 osobne grupy. 1 z nich, której maksimum przypada w między 7:00 a 8:00 to ludzie jadący na rowerze do pracy. 2 grupa - maksimum ok 17:00 - to ludzie wracający z pracy.\n",
    "   \n",
    "**Różnica w natężeniu ruchu po obu stronach mostu**\n",
    "\n",
    "Na wszystkich wykresach wyraźnie widać, że zdecydowanie więcej rowerzystów przejeżdża przez zachodnią stronę mostu, niż wschodnią. Po przemyśelniach i obserwacji okolic mostu na google maps, pomysłów na to dlaczego tak się dzieje brak :)\n",
    "\n",
    "# 1. Wpływ pogody na natężenie ruchu rowerowego\n",
    "\n",
    "Do analizy jaki wpływ na ilość rowerzystów wywierają warunki pogodowe, użyto przede wszystkim analizy korelacji i determinacji liniowej pomiędzy liczbą rowerzystów a parametrami pogody oraz parametrów pogody ze sobą.\n",
    "\n",
    "![](cz3_wykresy_korelacja_1.png)\n",
    "![](cz3_wykresy_korelacja_2.png)\n",
    "\n",
    "   - Wśród wszystkich parametrów największe znaczenie dla ilości rowerzystów jadących przez most była temperatura. \n",
    "   - Średnia i maksymalna wartość temperatury ma wyższą korelację z liczbą rowerzystów niż minimalna wartość.\n",
    "   - Wynika to prawdopodobnie z faktu, że temperatura minimalna osiągana jest przed świtem. Jak widać po wykresie natężenia ruchu w zależności od godziny, jest wówczas bardzo mało rowerzystów, więc na bezpośrednią decyzję o wyborze środka lokomocji ma mniejsze znaczenie niż temperatura średnia czy maksymalna, które są osiągane w późniejszej porze dnia.\n",
    "   - Na przykładzie danych zebranych z mostu, można stwierdzić, że czynnikiem najbardziej zniechęcającym rowerzystów do jazdy jest zachmurzenie. Jest to wniosek o tyle ciekawy, że według intuicji mogłoby się wydawać, iż największy wpływ na małą liczbę rowerzystów będą miały opady deszczu.\n",
    " \n",
    "**Czy na pewno zachmurzenie wywiera większy wpływ na natężenie ruchu niż opady?**\n",
    "   \n",
    "![](cz3_wykresy_regresja_krzyw.png)\n",
    "\n",
    "Powyżej zaprezentowane są wykresy rozkładu wartości obu zmiennych wraz z nałożonymi na nie krzywymi regresji - funkcjami typu y = a * e^(x*b) + c.\n",
    "\n",
    "Pierwszą rzucającą się w oczy obserwacją jest istnienie bardzo wielu obserwacji, gdzie opady wynoszą 0. Rzecz jasna w te dni nie mogą one wpływać na decyzję o jeździe rowerem (oprócz dni kiedy 'zanosi się na deszcz' lecz ostatecznie go nie ma).\n",
    "\n",
    "Żeby 'wyrównać szanse' sprawdzono jak wygląda sytuacja wtedy, kiedy pada deszcz.\n",
    "\n",
    "![](opad_kor.png)\n",
    "\n",
    "Jak widać, nie ma to wpływu na korelację zmiennych, zatem można przyjąć, że to zachmurzenie ma decydujący wpływ na małą liczbę rowerzystów przejeżdżających przez most.\n",
    "\n",
    "**Wizualizacja wpływu najważniejszych parametrów pogody na liczbę rowerzystów**\n",
    "\n",
    "![](temp_zachm_row.png)\n",
    "\n",
    " - Na wykresie dot. temperatury (max) widoczne jest, że dla obu zmiennych zachowany jest ten sam trend nie tyle dotyczący pojedynczych dni co całych miesięcy. W cieplejszej porze roku jest więcej rowerzystów.\n",
    " - Wykres dotyczący przejrzystości nieba nie wykazuje tego samego trendu, co liczba rowerzystów, jednak po dokładniejszemu przyjrzeniu się obu wykresom widoczne jest, że piki dużej liczby rowerzystów w większości pokrywają się z pikami przejrzystości nieba.\n",
    " \n",
    " Na tych przykładach widoczne jest, że współczynnik korelacji wykazuje wysokie wartości zarówno kiedy zmienne na przestrzeni całego zbioru, mimo miejcowych różnic wykazują się tym samym trendem (temperatura i liczba rowerzystów) oraz gdy nie widać zachowanego trendu, jednak zmienne charakteryzują się miejscowym podobieństwem (trend jest, ale na przestrzeni pojedynczych dni) (przejrzystość nieba i liczba rowerzystów).\n",
    " \n",
    "**Wykresy rozrzutu zmiennych pogodowych i liczby rowerzystów**\n",
    "\n",
    "![](cz3_wykresy_regresja_liniowa.png)\n",
    "\n",
    "- Nałożone krzywe regresji liniowej dają dobre odzwierciedlenie tylko dla części zmiennych - najlepiej dla temperatury, która cechuje się silną liniową zależnością w stosunku do liczby rowerzystów. \n",
    "- Zwizualizowane zależności stanowią przedłużenie dla pokazanego wcześniej współczynnika korelacji między tymi zmiennymi, gdyż jest miarą liniowej zależności 2 zmiennych.\n",
    "\n",
    "**Problemy:**"
   ]
  },
  {
   "cell_type": "code",
   "execution_count": null,
   "id": "517b9ec5",
   "metadata": {},
   "outputs": [],
   "source": []
  },
  {
   "cell_type": "code",
   "execution_count": null,
   "id": "c0f9c6b2",
   "metadata": {},
   "outputs": [],
   "source": []
  }
 ],
 "metadata": {
  "kernelspec": {
   "display_name": "Python 3 (ipykernel)",
   "language": "python",
   "name": "python3"
  },
  "language_info": {
   "codemirror_mode": {
    "name": "ipython",
    "version": 3
   },
   "file_extension": ".py",
   "mimetype": "text/x-python",
   "name": "python",
   "nbconvert_exporter": "python",
   "pygments_lexer": "ipython3",
   "version": "3.10.7"
  }
 },
 "nbformat": 4,
 "nbformat_minor": 5
}
